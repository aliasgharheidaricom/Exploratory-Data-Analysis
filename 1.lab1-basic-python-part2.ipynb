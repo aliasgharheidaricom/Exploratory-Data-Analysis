{
 "cells": [
  {
   "cell_type": "markdown",
   "id": "166d457e",
   "metadata": {},
   "source": [
    "# Exploratory Data Analysis Lab\n",
    "## Python Basics\n",
    "### 1. Data types"
   ]
  },
  {
   "cell_type": "markdown",
   "id": "c7ccd2ae",
   "metadata": {},
   "source": [
    "#### Numbers: Integers and floats"
   ]
  },
  {
   "cell_type": "code",
   "execution_count": 3,
   "id": "954c6eeb",
   "metadata": {},
   "outputs": [
    {
     "name": "stdout",
     "output_type": "stream",
     "text": [
      "<class 'int'>\n",
      "3\n"
     ]
    }
   ],
   "source": [
    "# Numbers: Integers and floats \n",
    "x = 3\n",
    "print(type(x))                         # Prints \"<class 'int'>\"\n",
    "print(x)                               # Prints \"3\"\n"
   ]
  },
  {
   "cell_type": "code",
   "execution_count": 6,
   "id": "eb173767",
   "metadata": {},
   "outputs": [
    {
     "name": "stdout",
     "output_type": "stream",
     "text": [
      "4\n",
      "2\n",
      "6\n",
      "9\n",
      "162.0\n"
     ]
    }
   ],
   "source": [
    "print(x + 1)                           # Addition; prints \"4\"\n",
    "print(x - 1)                           # Subtraction; prints \"2\"\n",
    "print(x * 2)                           # Multiplication; prints \"6\"\n",
    "print(x ** 2 )                          # Exponentiation; prints \"9\"\n",
    "print(324/2)                             # Divison; prints \"1.5\""
   ]
  },
  {
   "cell_type": "code",
   "execution_count": 9,
   "id": "b1181c4c",
   "metadata": {},
   "outputs": [
    {
     "name": "stdout",
     "output_type": "stream",
     "text": [
      "2.5\n"
     ]
    }
   ],
   "source": [
    "x=5\n",
    "x/=2\n",
    "print(x)"
   ]
  },
  {
   "cell_type": "code",
   "execution_count": 11,
   "id": "e9286c4d",
   "metadata": {},
   "outputs": [
    {
     "name": "stdout",
     "output_type": "stream",
     "text": [
      "4\n",
      "8\n",
      "<class 'float'>\n",
      "2.5 3.5 5.0 6.25\n"
     ]
    }
   ],
   "source": [
    "x += 1\n",
    "print(x)                               # Prints \"4\"\n",
    "x *= 2\n",
    "print(x)                               # Prints \"8\"\n",
    "y = 2.5\n",
    "print(type(y))                         # Prints \"<class 'float'>\"\n",
    "print(y, y + 1, y * 2, y ** 2)         # Prints \"2.5 3.5 5.0 6.25\""
   ]
  },
  {
   "cell_type": "markdown",
   "id": "1b442cb7",
   "metadata": {},
   "source": [
    "#### Booleans"
   ]
  },
  {
   "cell_type": "code",
   "execution_count": 12,
   "id": "1ae4f68e",
   "metadata": {},
   "outputs": [
    {
     "name": "stdout",
     "output_type": "stream",
     "text": [
      "<class 'bool'>\n",
      "False\n",
      "True\n",
      "False\n",
      "True\n"
     ]
    }
   ],
   "source": [
    "\n",
    "t = True\n",
    "f = False\n",
    "print(type(t))         # Prints \"<class 'bool'>\"\n",
    "print(t and f)         # Logical AND; prints \"False\"\n",
    "print(t or f)          # Logical OR; prints \"True\"\n",
    "print(not t)           # Logical NOT; prints \"False\"\n",
    "print(t != f)          # Logical XOR; prints \"True\""
   ]
  },
  {
   "cell_type": "markdown",
   "id": "38231a40",
   "metadata": {},
   "source": [
    "#### Strings"
   ]
  },
  {
   "cell_type": "code",
   "execution_count": 12,
   "id": "74c615c0",
   "metadata": {},
   "outputs": [
    {
     "name": "stdout",
     "output_type": "stream",
     "text": [
      "EDA\n",
      "3\n"
     ]
    }
   ],
   "source": [
    "\n",
    "course = 'EDA'                            # String literals can use single quotes\n",
    "univ = \"KLE Tech\"                         # or double quotes; it does not matter.\n",
    "print(course)                             # Prints \"EDA\"\n",
    "print(len(course))                        # String length; prints \"3\"\n"
   ]
  },
  {
   "cell_type": "code",
   "execution_count": 14,
   "id": "5e6f4cae",
   "metadata": {},
   "outputs": [
    {
     "name": "stdout",
     "output_type": "stream",
     "text": [
      "EDA KLE Tech\n",
      "EDA KLE Tech 310\n"
     ]
    }
   ],
   "source": [
    "cu = course+' ' + univ                # String concatenation\n",
    "print(cu)                               # prints \"EDA KLE Tech\"\n",
    "cu310 = '%s %s %d' %(course, univ, 310)  # sprintf style string formatting\n",
    "print(cu310)                             # prints \"EDA KLE Tech 310\""
   ]
  },
  {
   "cell_type": "markdown",
   "id": "efece828",
   "metadata": {},
   "source": [
    "#### String methods \n",
    " - For more visit https://docs.python.org/3.10/library/stdtypes.html#string-methods"
   ]
  },
  {
   "cell_type": "code",
   "execution_count": 15,
   "id": "1cd905ab",
   "metadata": {},
   "outputs": [
    {
     "name": "stdout",
     "output_type": "stream",
     "text": [
      "Knees\n",
      "KNEES\n",
      "    knees\n",
      "  knees  \n",
      "kn(ell)(ell)s\n",
      "joint\n"
     ]
    }
   ],
   "source": [
    "\n",
    "s = \"knees\"\n",
    "print(s.capitalize())             # Capitalize a string; prints \"Knees\"\n",
    "print(s.upper())                  # Convert a string to uppercase; prints \"KNEES\"\n",
    "print(s.rjust(9))                 # Right-justify a string, padding with spaces; prints \"    knees\"\n",
    "print(s.center(9))                # Center a string, padding with spaces; prints \"  knees  \"\n",
    "print(s.replace('e', '(ell)'))    # Replace all instances of one substring with another;\n",
    "                                  # prints \"kn(ell)(ell)s\"\n",
    "print('  joint '.strip())         # Strip leading and trailing whitespace; prints \"joint\""
   ]
  },
  {
   "cell_type": "markdown",
   "id": "35292a5c",
   "metadata": {},
   "source": [
    "### Summary questions\n",
    "- What are the different datatypes python support?\n",
    "- How do you determine type of an element?\n",
    "- How do you convert a element to a given type?"
   ]
  },
  {
   "cell_type": "markdown",
   "id": "6f7afbcc",
   "metadata": {},
   "source": [
    "### Exercise\n",
    "- 10/4 ?  --  integer datatype?"
   ]
  },
  {
   "cell_type": "markdown",
   "id": "c7345cea",
   "metadata": {},
   "source": [
    "### 2. Imports and Math"
   ]
  },
  {
   "cell_type": "markdown",
   "id": "cd651ff5",
   "metadata": {},
   "source": [
    "#### 'Generic import' of math module\n"
   ]
  },
  {
   "cell_type": "code",
   "execution_count": 16,
   "id": "4edd90f6",
   "metadata": {},
   "outputs": [],
   "source": [
    "import math"
   ]
  },
  {
   "cell_type": "code",
   "execution_count": 17,
   "id": "b73895b1",
   "metadata": {},
   "outputs": [
    {
     "data": {
      "text/plain": [
       "5.0"
      ]
     },
     "execution_count": 17,
     "metadata": {},
     "output_type": "execute_result"
    }
   ],
   "source": [
    "math.sqrt(25)"
   ]
  },
  {
   "cell_type": "code",
   "execution_count": 18,
   "id": "26a3a338",
   "metadata": {},
   "outputs": [
    {
     "data": {
      "text/plain": [
       "8.0"
      ]
     },
     "execution_count": 18,
     "metadata": {},
     "output_type": "execute_result"
    }
   ],
   "source": [
    "# define an alias\n",
    "import math as mt\n",
    "mt.sqrt(64)"
   ]
  },
  {
   "cell_type": "markdown",
   "id": "af83b067",
   "metadata": {},
   "source": [
    "#### import a function\n"
   ]
  },
  {
   "cell_type": "code",
   "execution_count": 19,
   "id": "e85389a9",
   "metadata": {},
   "outputs": [],
   "source": [
    "from math import sqrt\n"
   ]
  },
  {
   "cell_type": "code",
   "execution_count": 20,
   "id": "6c070ed0",
   "metadata": {},
   "outputs": [
    {
     "data": {
      "text/plain": [
       "5.0"
      ]
     },
     "execution_count": 20,
     "metadata": {},
     "output_type": "execute_result"
    }
   ],
   "source": [
    "sqrt(25)    # no longer have to reference the module"
   ]
  },
  {
   "cell_type": "code",
   "execution_count": 21,
   "id": "126a806d",
   "metadata": {},
   "outputs": [
    {
     "name": "stdout",
     "output_type": "stream",
     "text": [
      "['__doc__', '__file__', '__loader__', '__name__', '__package__', '__spec__', 'acos', 'acosh', 'asin', 'asinh', 'atan', 'atan2', 'atanh', 'ceil', 'comb', 'copysign', 'cos', 'cosh', 'degrees', 'dist', 'e', 'erf', 'erfc', 'exp', 'expm1', 'fabs', 'factorial', 'floor', 'fmod', 'frexp', 'fsum', 'gamma', 'gcd', 'hypot', 'inf', 'isclose', 'isfinite', 'isinf', 'isnan', 'isqrt', 'lcm', 'ldexp', 'lgamma', 'log', 'log10', 'log1p', 'log2', 'modf', 'nan', 'nextafter', 'perm', 'pi', 'pow', 'prod', 'radians', 'remainder', 'sin', 'sinh', 'sqrt', 'tan', 'tanh', 'tau', 'trunc', 'ulp']\n"
     ]
    }
   ],
   "source": [
    "# show all functions in math module\n",
    "print(dir(math))"
   ]
  },
  {
   "cell_type": "markdown",
   "id": "bc7681d4",
   "metadata": {},
   "source": [
    "### 3. Containers\n",
    " - Built-in container types: lists, dictionaries, sets, and tuples.\n"
   ]
  },
  {
   "cell_type": "markdown",
   "id": "575555cf",
   "metadata": {},
   "source": [
    "### 3.1 Lists\n",
    " - A list is the Python equivalent of an array\n",
    " - Is resizeable and can contain elements of different types"
   ]
  },
  {
   "cell_type": "code",
   "execution_count": 15,
   "id": "22a3e751",
   "metadata": {},
   "outputs": [
    {
     "name": "stdout",
     "output_type": "stream",
     "text": [
      "[3, 1, 2]\n",
      "<class 'list'>\n"
     ]
    }
   ],
   "source": [
    "xs = [3, 1, 2]    # Create a list\n",
    "print(xs)# Prints \"[3, 1, 2] 2\"\n",
    "print(type(xs))\n"
   ]
  },
  {
   "cell_type": "code",
   "execution_count": 16,
   "id": "ce053a0f",
   "metadata": {},
   "outputs": [
    {
     "name": "stdout",
     "output_type": "stream",
     "text": [
      "2\n",
      "3\n"
     ]
    }
   ],
   "source": [
    "print(xs[2])  # Prints \"2\"; Indexing starts from 0\n",
    "             \n",
    "print(xs[-3])     # Negative indices count from the end of the list; prints \"2\"\n",
    "                  "
   ]
  },
  {
   "cell_type": "code",
   "execution_count": 19,
   "id": "8c19c27e",
   "metadata": {},
   "outputs": [
    {
     "name": "stdout",
     "output_type": "stream",
     "text": [
      "['poo', 1, 'foo']\n"
     ]
    }
   ],
   "source": [
    "xs[2] = 'foo' # Lists can contain elements of different types\n",
    "xs[-3]='poo'\n",
    "print(xs)         # Prints \"[3, 1, 'foo']\"\n"
   ]
  },
  {
   "cell_type": "code",
   "execution_count": 30,
   "id": "fadd8945",
   "metadata": {},
   "outputs": [
    {
     "name": "stdout",
     "output_type": "stream",
     "text": [
      "['bar', 'bar', 'anugaar']\n"
     ]
    }
   ],
   "source": [
    "xs.append('bar')# Add a new element to the end of the list\n",
    "xs.append('bar')\n",
    "xs.append('anugaar')\n",
    "print(xs)         # Prints \"[3, 1, 'foo', 'bar']\"\n"
   ]
  },
  {
   "cell_type": "code",
   "execution_count": 32,
   "id": "5a38a1de",
   "metadata": {},
   "outputs": [
    {
     "name": "stdout",
     "output_type": "stream",
     "text": [
      "['bar']\n"
     ]
    }
   ],
   "source": [
    "xs.pop()      # Remove and return the last element of the list\n",
    "print(xs)      # Prints \"bar [3, 1, 'foo']\""
   ]
  },
  {
   "cell_type": "code",
   "execution_count": 42,
   "id": "85ee03b3",
   "metadata": {},
   "outputs": [
    {
     "data": {
      "text/plain": [
       "['bar', 1, 1, 1, 1, 1, 1, 1, 1]"
      ]
     },
     "execution_count": 42,
     "metadata": {},
     "output_type": "execute_result"
    }
   ],
   "source": [
    "xs.append(1)\n",
    "xs"
   ]
  },
  {
   "cell_type": "code",
   "execution_count": 45,
   "id": "b1306ba6",
   "metadata": {},
   "outputs": [
    {
     "data": {
      "text/plain": [
       "False"
      ]
     },
     "execution_count": 45,
     "metadata": {},
     "output_type": "execute_result"
    }
   ],
   "source": [
    "2 in xs           # Check if '1' is in the list using \"in\" operator"
   ]
  },
  {
   "cell_type": "code",
   "execution_count": 49,
   "id": "797840fd",
   "metadata": {},
   "outputs": [
    {
     "data": {
      "text/plain": [
       "9"
      ]
     },
     "execution_count": 49,
     "metadata": {},
     "output_type": "execute_result"
    }
   ],
   "source": [
    "len(xs)           # Length of the list i.e, number of elements in the list"
   ]
  },
  {
   "cell_type": "code",
   "execution_count": 51,
   "id": "6671f02c",
   "metadata": {},
   "outputs": [],
   "source": [
    "y=[2,4,6,7]\n",
    "z=list([2,5,7,9,0])"
   ]
  },
  {
   "cell_type": "markdown",
   "id": "97c8d81e",
   "metadata": {},
   "source": [
    "#### Exercise \n",
    " - Questions"
   ]
  },
  {
   "cell_type": "markdown",
   "id": "c9a78c0c",
   "metadata": {},
   "source": [
    "#### Slicing"
   ]
  },
  {
   "cell_type": "code",
   "execution_count": 53,
   "id": "628cae2a",
   "metadata": {},
   "outputs": [
    {
     "name": "stdout",
     "output_type": "stream",
     "text": [
      "[0, 1, 2, 3, 4]\n"
     ]
    }
   ],
   "source": [
    "\n",
    "nums = list(range(5))     # range is a built-in function that creates a list of integers\n",
    "print(nums)               # Prints \"[0, 1, 2, 3, 4]\""
   ]
  },
  {
   "cell_type": "code",
   "execution_count": 30,
   "id": "2c6e9cb7",
   "metadata": {},
   "outputs": [
    {
     "name": "stdout",
     "output_type": "stream",
     "text": [
      "[2, 3]\n"
     ]
    }
   ],
   "source": [
    "\n",
    "print(nums[2:4])          # Get a slice from index 2 to 4 (exclusive); prints \"[2, 3]\"\n"
   ]
  },
  {
   "cell_type": "code",
   "execution_count": 31,
   "id": "cd70669f",
   "metadata": {},
   "outputs": [
    {
     "name": "stdout",
     "output_type": "stream",
     "text": [
      "[2, 3, 4]\n"
     ]
    }
   ],
   "source": [
    "print(nums[2:])           # Get a slice from index 2 to the end; prints \"[2, 3, 4]\"\n"
   ]
  },
  {
   "cell_type": "code",
   "execution_count": 32,
   "id": "cb30e736",
   "metadata": {},
   "outputs": [
    {
     "name": "stdout",
     "output_type": "stream",
     "text": [
      "[0, 1]\n"
     ]
    }
   ],
   "source": [
    "print(nums[:2])           # Get a slice from the start to index 2 (exclusive); prints \"[0, 1]\"\n"
   ]
  },
  {
   "cell_type": "code",
   "execution_count": 33,
   "id": "1ad16a9b",
   "metadata": {},
   "outputs": [
    {
     "name": "stdout",
     "output_type": "stream",
     "text": [
      "[0, 1, 2, 3, 4]\n"
     ]
    }
   ],
   "source": [
    "print(nums[:])            # Get a slice of the whole list; prints \"[0, 1, 2, 3, 4]\"\n"
   ]
  },
  {
   "cell_type": "code",
   "execution_count": 34,
   "id": "7fdd9280",
   "metadata": {},
   "outputs": [
    {
     "name": "stdout",
     "output_type": "stream",
     "text": [
      "[0, 1, 2, 3]\n"
     ]
    }
   ],
   "source": [
    "print(nums[:-1])          # Slice indices can be negative; prints \"[0, 1, 2, 3]\"\n"
   ]
  },
  {
   "cell_type": "code",
   "execution_count": 35,
   "id": "74b1582e",
   "metadata": {},
   "outputs": [
    {
     "name": "stdout",
     "output_type": "stream",
     "text": [
      "[0, 1, 8, 9, 4]\n"
     ]
    }
   ],
   "source": [
    "nums[2:4] = [8, 9]        # Assign a new sublist to a slice\n",
    "print(nums)               # Prints \"[0, 1, 8, 9, 4]\""
   ]
  },
  {
   "cell_type": "markdown",
   "id": "8637a30c",
   "metadata": {},
   "source": [
    "#### Concatenating lists together"
   ]
  },
  {
   "cell_type": "code",
   "execution_count": 36,
   "id": "47d3ca1d",
   "metadata": {},
   "outputs": [
    {
     "name": "stdout",
     "output_type": "stream",
     "text": [
      "[1, 2, 3, 4, 5, 6]\n"
     ]
    }
   ],
   "source": [
    "\n",
    "x = [1, 2, 3]\n",
    "x.extend([4, 5, 6])           # x is now [1,2,3,4,5,6]\n",
    "print(x)\n",
    "\n"
   ]
  },
  {
   "cell_type": "code",
   "execution_count": 37,
   "id": "09ffe6ac",
   "metadata": {},
   "outputs": [
    {
     "name": "stdout",
     "output_type": "stream",
     "text": [
      "[1, 2, 3, 4, 5, 6]\n"
     ]
    }
   ],
   "source": [
    "# If you don’t want to modify x you can use list addition\n",
    "x = [1, 2, 3]\n",
    "y = x + [4, 5, 6]             # y is [1, 2, 3, 4, 5, 6]; x is unchanged\n",
    "print(y)\n",
    "\n"
   ]
  },
  {
   "cell_type": "code",
   "execution_count": 38,
   "id": "29517fb4",
   "metadata": {},
   "outputs": [
    {
     "name": "stdout",
     "output_type": "stream",
     "text": [
      "[1, 2, 3, 0]\n"
     ]
    }
   ],
   "source": [
    "# Appending to lists one item at a time\n",
    "x = [1, 2, 3]\n",
    "x.append(0)                   # x is now [1, 2, 3, 0]\n",
    "print(x)\n"
   ]
  },
  {
   "cell_type": "code",
   "execution_count": 39,
   "id": "7f6b20c5",
   "metadata": {},
   "outputs": [
    {
     "name": "stdout",
     "output_type": "stream",
     "text": [
      "4\n"
     ]
    }
   ],
   "source": [
    "y = x[-1]                     # equals 0\n",
    "z = len(x)                    # equals 4\n",
    "print(z)"
   ]
  },
  {
   "cell_type": "markdown",
   "id": "f44ef430",
   "metadata": {},
   "source": [
    "#### Conditions"
   ]
  },
  {
   "cell_type": "code",
   "execution_count": 58,
   "id": "21ac58c0",
   "metadata": {},
   "outputs": [
    {
     "name": "stdout",
     "output_type": "stream",
     "text": [
      "negative\n",
      "asdas\n"
     ]
    }
   ],
   "source": [
    "\n",
    "level = -5\n",
    "if level < 0:\n",
    "    print(\"negative\")\n",
    "    print('asdas')\n",
    "elif level == 0:\n",
    "    print(\"null\")\n",
    "else: # level > 0\n",
    "    print(\"positive\")"
   ]
  },
  {
   "cell_type": "markdown",
   "id": "c3130cb3",
   "metadata": {},
   "source": [
    "#### Loops"
   ]
  },
  {
   "cell_type": "code",
   "execution_count": 59,
   "id": "6c635be0",
   "metadata": {},
   "outputs": [
    {
     "name": "stdout",
     "output_type": "stream",
     "text": [
      "1\n",
      "2\n",
      "3\n"
     ]
    }
   ],
   "source": [
    "#while\n",
    "x = [1, 2, 3]\n",
    "i = 0\n",
    "while i < len(x):\n",
    "  print(x[i])\n",
    "  i += 1 # equivalent to i = i + 1"
   ]
  },
  {
   "cell_type": "code",
   "execution_count": 42,
   "id": "e1649e69",
   "metadata": {},
   "outputs": [
    {
     "name": "stdout",
     "output_type": "stream",
     "text": [
      "1\n",
      "2\n",
      "3\n"
     ]
    }
   ],
   "source": [
    "#for \n",
    "for i in range(len(x)):\n",
    "  print(x[i])"
   ]
  },
  {
   "cell_type": "code",
   "execution_count": 60,
   "id": "db41d9f9",
   "metadata": {},
   "outputs": [
    {
     "name": "stdout",
     "output_type": "stream",
     "text": [
      "Elements before sorting:\n",
      "dog\n",
      "cat\n",
      "monkey\n",
      "bear\n"
     ]
    }
   ],
   "source": [
    "\n",
    "animals = ['dog', 'cat', 'monkey', 'bear']\n",
    "\n",
    "# Print the elements of the list\n",
    "print(\"Elements before sorting:\")\n",
    "for i in animals:                   #if it is to iterate over a list of elements\n",
    "    print(i)\n",
    "# Prints \"dog\", cat\", \"monkey\", \"bear\", each on its own line.\n",
    "\n"
   ]
  },
  {
   "cell_type": "code",
   "execution_count": 61,
   "id": "0688d904",
   "metadata": {},
   "outputs": [
    {
     "name": "stdout",
     "output_type": "stream",
     "text": [
      "Elements after sorting:\n",
      "bear\n",
      "cat\n",
      "dog\n",
      "monkey\n"
     ]
    }
   ],
   "source": [
    "# Sort the list in ascending order\n",
    "animals.sort()\n",
    "\n",
    "print(\"Elements after sorting:\")\n",
    "for i in animals:\n",
    "    print(i)\n",
    "# Prints \"bear\", cat\", \"dog\", \"monkey\", each on its own line."
   ]
  },
  {
   "cell_type": "markdown",
   "id": "af55b61d",
   "metadata": {},
   "source": [
    "#### List comprehensions \n",
    " - to transform one type of data into another"
   ]
  },
  {
   "cell_type": "code",
   "execution_count": 45,
   "id": "bf07997e",
   "metadata": {},
   "outputs": [
    {
     "name": "stdout",
     "output_type": "stream",
     "text": [
      "[0, 1, 4, 9, 16]\n"
     ]
    }
   ],
   "source": [
    "\n",
    "nums = [0, 1, 2, 3, 4]\n",
    "squares = []\n",
    "for x in nums:\n",
    "    squares.append(x ** 2)\n",
    "print(squares)                # Prints [0, 1, 4, 9, 16]"
   ]
  },
  {
   "cell_type": "code",
   "execution_count": 46,
   "id": "e3231024",
   "metadata": {},
   "outputs": [
    {
     "name": "stdout",
     "output_type": "stream",
     "text": [
      "[0, 1, 4, 9, 16]\n"
     ]
    }
   ],
   "source": [
    "# Alternate\n",
    "nums = [0, 1, 2, 3, 4]\n",
    "squares = [x ** 2 for x in nums]\n",
    "print(squares)                # Prints [0, 1, 4, 9, 16]"
   ]
  },
  {
   "cell_type": "code",
   "execution_count": 47,
   "id": "a357f6c9",
   "metadata": {},
   "outputs": [
    {
     "name": "stdout",
     "output_type": "stream",
     "text": [
      "[0, 4, 16]\n"
     ]
    }
   ],
   "source": [
    "# List comprehensions with condition\n",
    "nums = [0, 1, 2, 3, 4]\n",
    "even_squares = [x ** 2 for x in nums if x % 2 == 0]\n",
    "print(even_squares)           # Prints \"[0, 4, 16]\""
   ]
  },
  {
   "cell_type": "markdown",
   "id": "6865234b",
   "metadata": {},
   "source": [
    "### Exercise\n",
    " - Questions"
   ]
  },
  {
   "cell_type": "markdown",
   "id": "16addcb7",
   "metadata": {},
   "source": [
    "### 3.2 Dictionaries\n",
    " - A dictionary stores (key, value) pairs, similar to a Map in Java"
   ]
  },
  {
   "cell_type": "code",
   "execution_count": 48,
   "id": "d32f03ff",
   "metadata": {},
   "outputs": [
    {
     "name": "stdout",
     "output_type": "stream",
     "text": [
      "{'cat': 'cute', 'dog': 'furry'}\n"
     ]
    }
   ],
   "source": [
    "d = {'cat': 'cute', 'dog': 'furry'}  # Create a new dictionary with some data\n",
    "print (d)"
   ]
  },
  {
   "cell_type": "code",
   "execution_count": 49,
   "id": "71813ed2",
   "metadata": {},
   "outputs": [
    {
     "name": "stdout",
     "output_type": "stream",
     "text": [
      "cute\n"
     ]
    }
   ],
   "source": [
    "print(d['cat'])                      # Get an entry from a dictionary; prints \"cute\"\n"
   ]
  },
  {
   "cell_type": "code",
   "execution_count": 50,
   "id": "554605b7",
   "metadata": {},
   "outputs": [
    {
     "name": "stdout",
     "output_type": "stream",
     "text": [
      "True\n"
     ]
    }
   ],
   "source": [
    "print('cat' in d)                    # Check if a dictionary has a given key; prints \"True\"\n"
   ]
  },
  {
   "cell_type": "code",
   "execution_count": 51,
   "id": "df911e64",
   "metadata": {},
   "outputs": [
    {
     "name": "stdout",
     "output_type": "stream",
     "text": [
      "wet\n"
     ]
    }
   ],
   "source": [
    "d['fish'] = 'wet'                    # Set an entry in a dictionary\n",
    "print(d['fish'])                     # Prints \"wet\"\n",
    "# print(d['monkey'])                 # KeyError: 'monkey' not a key of d\n"
   ]
  },
  {
   "cell_type": "code",
   "execution_count": 52,
   "id": "903bce0e",
   "metadata": {},
   "outputs": [
    {
     "name": "stdout",
     "output_type": "stream",
     "text": [
      "N/A\n",
      "wet\n"
     ]
    }
   ],
   "source": [
    "print(d.get('monkey', 'N/A'))        # Get an element with a default; prints \"N/A\"\n",
    "print(d.get('fish', 'N/A'))          # Get an element with a default; prints \"wet\"\n"
   ]
  },
  {
   "cell_type": "code",
   "execution_count": 53,
   "id": "6b49eece",
   "metadata": {},
   "outputs": [
    {
     "name": "stdout",
     "output_type": "stream",
     "text": [
      "N/A\n"
     ]
    }
   ],
   "source": [
    "del d['fish']                        # Remove an element from a dictionary\n",
    "print(d.get('fish', 'N/A'))          # \"fish\" is no longer a key; prints \"N/A\""
   ]
  },
  {
   "cell_type": "markdown",
   "id": "f2d0fe47",
   "metadata": {},
   "source": [
    "#### Loops\n"
   ]
  },
  {
   "cell_type": "code",
   "execution_count": 54,
   "id": "0cd76359",
   "metadata": {},
   "outputs": [
    {
     "name": "stdout",
     "output_type": "stream",
     "text": [
      "A person has 2 legs\n",
      "A cat has 4 legs\n",
      "A spider has 8 legs\n"
     ]
    }
   ],
   "source": [
    "d = {'person': 2, 'cat': 4, 'spider': 8}\n",
    "for animal in d:\n",
    "    legs = d[animal]\n",
    "    print('A %s has %d legs' % (animal, legs))\n",
    "# Prints \"A person has 2 legs\", \"A cat has 4 legs\", \"A spider has 8 legs\"\n"
   ]
  },
  {
   "cell_type": "code",
   "execution_count": 55,
   "id": "c69444ad",
   "metadata": {},
   "outputs": [
    {
     "name": "stdout",
     "output_type": "stream",
     "text": [
      "A person has 2 legs\n",
      "A cat has 4 legs\n",
      "A spider has 8 legs\n"
     ]
    }
   ],
   "source": [
    "# Alternate using items()\n",
    "d = {'person': 2, 'cat': 4, 'spider': 8}\n",
    "for animal, legs in d.items():\n",
    "    print('A %s has %d legs' % (animal, legs))\n",
    "# Prints \"A person has 2 legs\", \"A cat has 4 legs\", \"A spider has 8 legs\""
   ]
  },
  {
   "cell_type": "code",
   "execution_count": 56,
   "id": "7db5eb6f",
   "metadata": {},
   "outputs": [
    {
     "name": "stdout",
     "output_type": "stream",
     "text": [
      "{0: 0, 2: 4, 4: 16}\n"
     ]
    }
   ],
   "source": [
    "# Dictionary comprehensions\n",
    "nums = [0, 1, 2, 3, 4]\n",
    "even_num_to_square = {x: x ** 2 for x in nums if x % 2 == 0}\n",
    "print(even_num_to_square)  # Prints \"{0: 0, 2: 4, 4: 16}\""
   ]
  },
  {
   "cell_type": "markdown",
   "id": "bee6d13e",
   "metadata": {},
   "source": [
    "### 3.3 Sets\n",
    " - A set is an unordered collection of distinct elements.\n",
    " - DON'T HAVE INDEX\n",
    " - No Duplicate Values"
   ]
  },
  {
   "cell_type": "code",
   "execution_count": 62,
   "id": "11ac3724",
   "metadata": {},
   "outputs": [
    {
     "name": "stdout",
     "output_type": "stream",
     "text": [
      "True\n",
      "False\n"
     ]
    }
   ],
   "source": [
    "animals = {'cat', 'dog'}\n",
    "print('cat' in animals)            # Check if an element is in a set; prints \"True\"\n",
    "print('fish' in animals)           # prints \"False\"\n"
   ]
  },
  {
   "cell_type": "code",
   "execution_count": 63,
   "id": "504675ab",
   "metadata": {},
   "outputs": [
    {
     "name": "stdout",
     "output_type": "stream",
     "text": [
      "True\n"
     ]
    }
   ],
   "source": [
    "animals.add('fish')                # Add an element to a set\n",
    "print('fish' in animals)           # Prints \"True\"\n"
   ]
  },
  {
   "cell_type": "code",
   "execution_count": 64,
   "id": "fc2018a5",
   "metadata": {},
   "outputs": [
    {
     "name": "stdout",
     "output_type": "stream",
     "text": [
      "3\n"
     ]
    }
   ],
   "source": [
    "print(len(animals))                # Number of elements in a set; prints \"3\"\n"
   ]
  },
  {
   "cell_type": "code",
   "execution_count": 65,
   "id": "8a8b1326",
   "metadata": {},
   "outputs": [
    {
     "name": "stdout",
     "output_type": "stream",
     "text": [
      "3\n"
     ]
    }
   ],
   "source": [
    "animals.add('cat')                 # Adding an element that is already in the set does nothing\n",
    "print(len(animals))                # Prints \"3\"\n"
   ]
  },
  {
   "cell_type": "code",
   "execution_count": 68,
   "id": "2afe3685",
   "metadata": {},
   "outputs": [
    {
     "name": "stdout",
     "output_type": "stream",
     "text": [
      "2\n"
     ]
    }
   ],
   "source": [
    "animals.remove('cat')              # Remove an element from a set\n",
    "print(len(animals))                # Prints \"2\""
   ]
  },
  {
   "cell_type": "code",
   "execution_count": 71,
   "id": "a164d44e",
   "metadata": {},
   "outputs": [
    {
     "ename": "TypeError",
     "evalue": "'set' object is not subscriptable",
     "output_type": "error",
     "traceback": [
      "\u001b[0;31m---------------------------------------------------------------------------\u001b[0m",
      "\u001b[0;31mTypeError\u001b[0m                                 Traceback (most recent call last)",
      "Input \u001b[0;32mIn [71]\u001b[0m, in \u001b[0;36m<cell line: 1>\u001b[0;34m()\u001b[0m\n\u001b[0;32m----> 1\u001b[0m \u001b[43manimals\u001b[49m\u001b[43m[\u001b[49m\u001b[38;5;241;43m0\u001b[39;49m\u001b[43m]\u001b[49m\n",
      "\u001b[0;31mTypeError\u001b[0m: 'set' object is not subscriptable"
     ]
    }
   ],
   "source": [
    "animals[0]"
   ]
  },
  {
   "cell_type": "code",
   "execution_count": 73,
   "id": "395d66f0",
   "metadata": {},
   "outputs": [
    {
     "ename": "TypeError",
     "evalue": "'tuple' object does not support item assignment",
     "output_type": "error",
     "traceback": [
      "\u001b[0;31m---------------------------------------------------------------------------\u001b[0m",
      "\u001b[0;31mTypeError\u001b[0m                                 Traceback (most recent call last)",
      "Input \u001b[0;32mIn [73]\u001b[0m, in \u001b[0;36m<cell line: 2>\u001b[0;34m()\u001b[0m\n\u001b[1;32m      1\u001b[0m x\u001b[38;5;241m=\u001b[39m(\u001b[38;5;241m1\u001b[39m,\u001b[38;5;241m3\u001b[39m,\u001b[38;5;241m4\u001b[39m,\u001b[38;5;241m5\u001b[39m,\u001b[38;5;241m6\u001b[39m)\n\u001b[0;32m----> 2\u001b[0m x[\u001b[38;5;241m1\u001b[39m]\u001b[38;5;241m=\u001b[39m\u001b[38;5;241m5\u001b[39m\n\u001b[1;32m      3\u001b[0m \u001b[38;5;28mprint\u001b[39m(\u001b[38;5;28mtype\u001b[39m(x))\n",
      "\u001b[0;31mTypeError\u001b[0m: 'tuple' object does not support item assignment"
     ]
    }
   ],
   "source": [
    "x=(1,3,4,5,6)\n",
    "x[1]=5\n",
    "print(type(x))"
   ]
  },
  {
   "cell_type": "markdown",
   "id": "bec327b6",
   "metadata": {},
   "source": [
    "#### Loops\n"
   ]
  },
  {
   "cell_type": "code",
   "execution_count": 67,
   "id": "992ba588",
   "metadata": {},
   "outputs": [
    {
     "name": "stdout",
     "output_type": "stream",
     "text": [
      "#1: cat\n",
      "#2: dog\n",
      "#3: fish\n"
     ]
    }
   ],
   "source": [
    "animals = {'cat', 'dog', 'fish'}\n",
    "for idx, animal in enumerate(animals):\n",
    "    print('#%d: %s' % (idx + 1, animal))\n",
    "# Prints \"#1: fish\", \"#2: dog\", \"#3: cat\""
   ]
  },
  {
   "cell_type": "code",
   "execution_count": 63,
   "id": "32768a6c",
   "metadata": {},
   "outputs": [
    {
     "name": "stdout",
     "output_type": "stream",
     "text": [
      "{0, 1, 2, 3, 4, 5}\n"
     ]
    }
   ],
   "source": [
    "# Set comprehensions\n",
    "from math import sqrt\n",
    "nums = {int(sqrt(x)) for x in range(30)}\n",
    "print(nums)  # Prints \"{0, 1, 2, 3, 4, 5}\""
   ]
  },
  {
   "cell_type": "markdown",
   "id": "ae609231",
   "metadata": {},
   "source": [
    "### 3.4 Tuples\n",
    "- A tuple is an (immutable) ordered list of values.\n",
    "- A tuple is in many ways similar to a list; one of the most important differences is that tuples can be used as keys in dictionaries and as elements of sets, while lists cannot."
   ]
  },
  {
   "cell_type": "code",
   "execution_count": 105,
   "id": "588426f5",
   "metadata": {},
   "outputs": [
    {
     "name": "stdout",
     "output_type": "stream",
     "text": [
      "{(0, 1): 0, (1, 2): 1, (2, 3): 2, (3, 4): 3, (4, 5): 4, (5, 6): 5, (6, 7): 6, (7, 8): 7, (8, 9): 8, (9, 10): 9}\n",
      "5"
     ]
    }
   ],
   "source": [
    "d = {(x, x + 1): x for x in range(10)}  # Create a dictionary with tuple keys\n",
    "t = (5, 6)   \n",
    "# Create a tuple\n",
    "print(d)\n",
    "print(d[(5,6)])\n"
   ]
  },
  {
   "cell_type": "code",
   "execution_count": 65,
   "id": "abb87cc8",
   "metadata": {},
   "outputs": [
    {
     "name": "stdout",
     "output_type": "stream",
     "text": [
      "<class 'tuple'>\n"
     ]
    }
   ],
   "source": [
    "print(type(t))                          # Prints \"<class 'tuple'>\"\n"
   ]
  },
  {
   "cell_type": "code",
   "execution_count": 66,
   "id": "d2005949",
   "metadata": {},
   "outputs": [
    {
     "name": "stdout",
     "output_type": "stream",
     "text": [
      "5\n"
     ]
    }
   ],
   "source": [
    "print(d[t])                             # Prints \"5\"\n"
   ]
  },
  {
   "cell_type": "code",
   "execution_count": 67,
   "id": "66d7bdf5",
   "metadata": {},
   "outputs": [
    {
     "name": "stdout",
     "output_type": "stream",
     "text": [
      "1\n"
     ]
    }
   ],
   "source": [
    "print(d[(1, 2)])                        # Prints \"1\"\n"
   ]
  },
  {
   "cell_type": "code",
   "execution_count": 68,
   "id": "4eac3de5",
   "metadata": {},
   "outputs": [
    {
     "name": "stdout",
     "output_type": "stream",
     "text": [
      "{(0, 1): 0, (1, 2): 1, (2, 3): 2, (3, 4): 3, (4, 5): 4, (5, 6): 5, (6, 7): 6, (7, 8): 7, (8, 9): 8, (9, 10): 9}\n"
     ]
    }
   ],
   "source": [
    "print (d)"
   ]
  },
  {
   "cell_type": "markdown",
   "id": "aa322007",
   "metadata": {},
   "source": [
    "### 4. Functions\n",
    "- Python functions are defined using the def keyword."
   ]
  },
  {
   "cell_type": "code",
   "execution_count": 74,
   "id": "50062e8a",
   "metadata": {},
   "outputs": [
    {
     "data": {
      "text/plain": [
       "'negative'"
      ]
     },
     "execution_count": 74,
     "metadata": {},
     "output_type": "execute_result"
    }
   ],
   "source": [
    "def sign(x):\n",
    "    if x > 0:\n",
    "        return 'positive'\n",
    "    elif x < 0:\n",
    "        return 'negative'\n",
    "    else:\n",
    "        return 'zero'\n",
    "\n",
    "sign(-2)\n"
   ]
  },
  {
   "cell_type": "code",
   "execution_count": 75,
   "id": "90bba784",
   "metadata": {},
   "outputs": [
    {
     "name": "stdout",
     "output_type": "stream",
     "text": [
      "negative\n",
      "zero\n",
      "positive\n"
     ]
    }
   ],
   "source": [
    "\n",
    "for x in [-1, 0, 1]:\n",
    "    print(sign(x))\n",
    "# Prints \"negative\", \"zero\", \"positive\""
   ]
  },
  {
   "cell_type": "code",
   "execution_count": 71,
   "id": "a025998f",
   "metadata": {},
   "outputs": [
    {
     "name": "stdout",
     "output_type": "stream",
     "text": [
      "Hello, Ian\n",
      "HELLO, GOODFELLOW!\n"
     ]
    }
   ],
   "source": [
    "# define functions with optional keyword arguments\n",
    "def hello_name(name, loud=False):\n",
    "    if loud:\n",
    "        print('HELLO, %s!' % name.upper())\n",
    "    else:\n",
    "        print('Hello, %s' % name)\n",
    "\n",
    "hello_name('Ian')                                    # Prints \"Hello, Ian\"\n",
    "hello_name('Goodfellow', loud=True)                  # Prints \"HELLO, GOODFELLOW!\""
   ]
  },
  {
   "cell_type": "markdown",
   "id": "fb440b1f",
   "metadata": {},
   "source": [
    "**Exercise** Using a conditional, write the [relu](https://en.wikipedia.org/wiki/Rectifier_(neural_networks)) function defined as follows\n",
    "\n",
    "$\\text{relu}(x) = \\left\\{\n",
    "   \\begin{array}{rl}\n",
    "     x, & \\text{if }  x \\ge 0 \\\\\n",
    "     0, & \\text{otherwise }.\n",
    "   \\end{array}\\right.$"
   ]
  },
  {
   "cell_type": "code",
   "execution_count": 108,
   "id": "eb8ac2f1",
   "metadata": {},
   "outputs": [
    {
     "data": {
      "text/plain": [
       "0"
      ]
     },
     "execution_count": 108,
     "metadata": {},
     "output_type": "execute_result"
    }
   ],
   "source": [
    "def relu(x):\n",
    "    if (x>=0):\n",
    "        return x\n",
    "    else:\n",
    "        return 0\n",
    "    \n",
    "\n",
    "relu(-3)\n"
   ]
  },
  {
   "cell_type": "code",
   "execution_count": 100,
   "id": "29c77994",
   "metadata": {},
   "outputs": [
    {
     "name": "stdout",
     "output_type": "stream",
     "text": [
      "[1, 2, {'cat': 'sda'}, 4, (3, 5, 6), {'sad'}]\n"
     ]
    }
   ],
   "source": [
    "nums=[1,2,{'cat':'sda'},4,(3,5,6),{'sad'}]\n",
    "print(nums)\n"
   ]
  },
  {
   "cell_type": "code",
   "execution_count": 101,
   "id": "56b41fe4",
   "metadata": {},
   "outputs": [
    {
     "name": "stdout",
     "output_type": "stream",
     "text": [
      "2\n"
     ]
    }
   ],
   "source": [
    "d={(3,4):[2,3,4]}\n",
    "print(d[(3,4)][0])"
   ]
  },
  {
   "cell_type": "markdown",
   "id": "abc0aec4",
   "metadata": {},
   "source": [
    "## Reference on Python Basics \n",
    "- For more details https://docs.python.org/3.10/tutorial/index.html"
   ]
  }
 ],
 "metadata": {
  "kernelspec": {
   "display_name": "Python 3 (ipykernel)",
   "language": "python",
   "name": "python3"
  },
  "language_info": {
   "codemirror_mode": {
    "name": "ipython",
    "version": 3
   },
   "file_extension": ".py",
   "mimetype": "text/x-python",
   "name": "python",
   "nbconvert_exporter": "python",
   "pygments_lexer": "ipython3",
   "version": "3.10.2"
  }
 },
 "nbformat": 4,
 "nbformat_minor": 5
}
