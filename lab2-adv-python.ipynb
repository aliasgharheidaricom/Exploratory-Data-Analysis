{
 "cells": [
  {
   "cell_type": "markdown",
   "id": "06d34f97",
   "metadata": {},
   "source": [
    "# EDA Lab\n",
    "## Advanced python concepts"
   ]
  },
  {
   "cell_type": "markdown",
   "id": "628f044f",
   "metadata": {},
   "source": [
    "### 1. Exception handling"
   ]
  },
  {
   "cell_type": "code",
   "execution_count": null,
   "id": "d714142b",
   "metadata": {},
   "outputs": [],
   "source": [
    "d = dict(a=[1, 2], b=[4, 5])\n",
    "\n",
    "key = 'c'\n",
    "try:\n",
    "    d[key] \n",
    "except:\n",
    "    print(\"Key %s is missing.\" % key)\n",
    "    d['c'] = []                #Add it with empty value\n",
    "print(d)"
   ]
  },
  {
   "cell_type": "markdown",
   "id": "d1499a9f",
   "metadata": {},
   "source": [
    "### 2. System programming"
   ]
  },
  {
   "cell_type": "markdown",
   "id": "bbd4f9fb",
   "metadata": {},
   "source": [
    "### Operating system interfaces"
   ]
  },
  {
   "cell_type": "code",
   "execution_count": null,
   "id": "b35822b6",
   "metadata": {},
   "outputs": [],
   "source": [
    "import os\n",
    "#!/usr/bin/python"
   ]
  },
  {
   "cell_type": "code",
   "execution_count": null,
   "id": "e4a9ead1",
   "metadata": {},
   "outputs": [],
   "source": [
    "# Get the current working directory\n",
    "cwd = os.getcwd()\n",
    "print(cwd)\n"
   ]
  },
  {
   "cell_type": "code",
   "execution_count": null,
   "id": "c6240ca1",
   "metadata": {},
   "outputs": [],
   "source": [
    "# Set the current working directory\n",
    "os.chdir(cwd)"
   ]
  },
  {
   "cell_type": "code",
   "execution_count": null,
   "id": "df28c486",
   "metadata": {},
   "outputs": [],
   "source": [
    "# File input/output\n",
    "filename = os.path.join(cwd, \"myfile.txt\")\n",
    "print(filename)"
   ]
  },
  {
   "cell_type": "markdown",
   "id": "4f410774",
   "metadata": {},
   "source": [
    "#### Writing"
   ]
  },
  {
   "cell_type": "code",
   "execution_count": null,
   "id": "8ebd0379",
   "metadata": {},
   "outputs": [],
   "source": [
    "# Writing to file -- Approach1\n",
    "lines = [\"Russia and Ukraine war news updates\", \"Data Science latest news\"]\n",
    "\n",
    "## write line by line\n",
    "#file object = open(file_name [, access_mode][, buffering])\n",
    "fd = open(filename, \"w\") \n",
    "\n",
    "fd.write(lines[0] + \"\\n\") \n",
    "fd.write(lines[1]+ \"\\n\") \n",
    "fd.close()"
   ]
  },
  {
   "cell_type": "code",
   "execution_count": null,
   "id": "a295e7c0",
   "metadata": {},
   "outputs": [],
   "source": [
    "# Writing to file -- Approach2\n",
    "lines = [\"Russia and Ukraine war news updates\", \"Data Science latest news\"]\n",
    "## use a context manager to automatically close your file\n",
    "with open(filename, 'w') as f: \n",
    "    for line in lines:\n",
    "        f.write(line + '\\n')"
   ]
  },
  {
   "cell_type": "markdown",
   "id": "22f49e86",
   "metadata": {},
   "source": [
    "#### Reading"
   ]
  },
  {
   "cell_type": "code",
   "execution_count": null,
   "id": "64872167",
   "metadata": {},
   "outputs": [],
   "source": [
    "## read one line at a time from file -- Approach1\n",
    "f = open(filename, 'r')\n",
    "line = f.readline()    # one string per line (including newlines)\n",
    "print ('Line1: %s' %line)\n",
    "line = f.readline()    # next line\n",
    "print ('Line2: %s' %line)\n",
    "f.close()"
   ]
  },
  {
   "cell_type": "code",
   "execution_count": null,
   "id": "9be643b5",
   "metadata": {},
   "outputs": [],
   "source": [
    "## read the whole file at once, return a list of lines -- Approach2\n",
    "f = open(filename, 'r')\n",
    "line = f.readlines()   # one list, each line is one string\n",
    "#lines = [line for line in f]\n",
    "print (\"Lines: %s\" %line)\n",
    "f.close()"
   ]
  },
  {
   "cell_type": "markdown",
   "id": "8bd46249",
   "metadata": {},
   "source": [
    "#### Explore and list directories"
   ]
  },
  {
   "cell_type": "code",
   "execution_count": null,
   "id": "68afc731",
   "metadata": {},
   "outputs": [],
   "source": [
    "import os\n",
    "WD = os.path.abspath(cwd)\n",
    "for dirpath, dirnames, filenames in os.walk(WD): \n",
    "    print(dirpath, '\\n', dirnames, '\\n', filenames)"
   ]
  },
  {
   "cell_type": "markdown",
   "id": "6685653e",
   "metadata": {},
   "source": [
    "#### glob, basename and file extension\n",
    "- global is used to return all file paths that match a specific pattern.\n",
    "- useful for searching specific file pattern"
   ]
  },
  {
   "cell_type": "code",
   "execution_count": null,
   "id": "239a1b1d",
   "metadata": {},
   "outputs": [],
   "source": [
    "import glob\n",
    "filenames = glob.glob(os.path.join(cwd, \"*.txt\"))\n",
    "print(filenames)\n"
   ]
  },
  {
   "cell_type": "code",
   "execution_count": null,
   "id": "58518fda",
   "metadata": {},
   "outputs": [],
   "source": [
    "# take basename then remove extension\n",
    "basenames = [os.path.splitext(os.path.basename(f))[0] for f in filenames] \n",
    "print(basenames)"
   ]
  },
  {
   "cell_type": "markdown",
   "id": "d048188c",
   "metadata": {},
   "source": [
    "### 3. Multiprocess and multithreading"
   ]
  },
  {
   "cell_type": "markdown",
   "id": "f0d6fbec",
   "metadata": {},
   "source": [
    "### 4. Object Oriented Programming"
   ]
  },
  {
   "cell_type": "markdown",
   "id": "ee4169c6",
   "metadata": {},
   "source": [
    "#### Principles\n",
    "- Encapsulate data (attributes) and code (methods) into objects.\n",
    "- Class = template that can be used to create objects.\n",
    "- An object is a specific instance of a class.\n",
    "- Inheritance: OOP allows classes to inherit commonly used state and behaviour from other classes. \n",
    "- Polymorphism: calling code is agnostic as to whether an object belongs to a parent class or one of its descendants. "
   ]
  },
  {
   "cell_type": "code",
   "execution_count": null,
   "id": "307ee34e",
   "metadata": {},
   "outputs": [],
   "source": [
    "import math\n",
    "\n",
    "class Shape2D:\n",
    "    def area(self):\n",
    "        raise NotImplementedError()\n",
    "\n"
   ]
  },
  {
   "cell_type": "code",
   "execution_count": null,
   "id": "f08ef1a3",
   "metadata": {},
   "outputs": [],
   "source": [
    "# __init__ is a special method called the constructor\n",
    "\n",
    "# Inheritance + Encapsulation\n",
    "class Square(Shape2D):\n",
    "    def __init__(self, width):\n",
    "        self.width = width \n",
    "    \n",
    "    def area(self):\n",
    "        return self.width ** 2\n",
    "\n",
    "class Disk(Shape2D):\n",
    "    def __init__(self, radius):\n",
    "        self.radius = radius \n",
    "        \n",
    "    def area(self):\n",
    "        return math.pi * self.radius ** 2 \n",
    "    \n"
   ]
  },
  {
   "cell_type": "code",
   "execution_count": null,
   "id": "e3fb1d83",
   "metadata": {},
   "outputs": [],
   "source": [
    "#Object instantiation\n",
    "\n",
    "shapes = [Square(2), Disk(3)]\n",
    "\n",
    "# Polymorphism\n",
    "print([s.area() for s in shapes])\n",
    "\n"
   ]
  },
  {
   "cell_type": "code",
   "execution_count": null,
   "id": "31beef0b",
   "metadata": {},
   "outputs": [],
   "source": [
    "s = Shape2D() \n",
    "try:\n",
    "     s.area()\n",
    "except NotImplementedError as e:\n",
    "    print(\"NotImplementedError\")"
   ]
  },
  {
   "cell_type": "code",
   "execution_count": null,
   "id": "29429a81",
   "metadata": {},
   "outputs": [],
   "source": []
  }
 ],
 "metadata": {
  "kernelspec": {
   "display_name": "Python 3 (ipykernel)",
   "language": "python",
   "name": "python3"
  },
  "language_info": {
   "codemirror_mode": {
    "name": "ipython",
    "version": 3
   },
   "file_extension": ".py",
   "mimetype": "text/x-python",
   "name": "python",
   "nbconvert_exporter": "python",
   "pygments_lexer": "ipython3",
   "version": "3.9.7"
  }
 },
 "nbformat": 4,
 "nbformat_minor": 5
}
