{
 "cells": [
  {
   "cell_type": "markdown",
   "id": "537ee5fd",
   "metadata": {},
   "source": [
    "# NUMPY"
   ]
  },
  {
   "cell_type": "code",
   "execution_count": 3,
   "id": "8e005a5e",
   "metadata": {},
   "outputs": [],
   "source": [
    "import numpy as np"
   ]
  },
  {
   "cell_type": "code",
   "execution_count": 11,
   "id": "b3ff8418",
   "metadata": {},
   "outputs": [
    {
     "data": {
      "text/plain": [
       "(2, 3)"
      ]
     },
     "execution_count": 11,
     "metadata": {},
     "output_type": "execute_result"
    }
   ],
   "source": [
    "np.array([[3,4,5],[3,5,6]]).shape"
   ]
  },
  {
   "cell_type": "code",
   "execution_count": 16,
   "id": "eab91b2c",
   "metadata": {},
   "outputs": [
    {
     "data": {
      "text/plain": [
       "array([[0., 0.],\n",
       "       [0., 0.]])"
      ]
     },
     "execution_count": 16,
     "metadata": {},
     "output_type": "execute_result"
    }
   ],
   "source": [
    "np.zeros(4).reshape(2,2)"
   ]
  },
  {
   "cell_type": "code",
   "execution_count": 18,
   "id": "c92e75a7",
   "metadata": {},
   "outputs": [
    {
     "data": {
      "text/plain": [
       "array([[1., 1.],\n",
       "       [1., 1.],\n",
       "       [1., 1.],\n",
       "       [1., 1.],\n",
       "       [1., 1.]])"
      ]
     },
     "execution_count": 18,
     "metadata": {},
     "output_type": "execute_result"
    }
   ],
   "source": [
    "np.ones(10).reshape(5,2)"
   ]
  },
  {
   "cell_type": "code",
   "execution_count": 22,
   "id": "ee625661",
   "metadata": {},
   "outputs": [
    {
     "data": {
      "text/plain": [
       "array([[1.5e-323, 2.0e-323],\n",
       "       [2.5e-323, 1.5e-323],\n",
       "       [2.5e-323, 3.0e-323]])"
      ]
     },
     "execution_count": 22,
     "metadata": {},
     "output_type": "execute_result"
    }
   ],
   "source": [
    "np.empty(6).reshape(3,2)"
   ]
  },
  {
   "cell_type": "code",
   "execution_count": 29,
   "id": "462ffb58",
   "metadata": {},
   "outputs": [
    {
     "data": {
      "text/plain": [
       "array([[1, 2, 3],\n",
       "       [4, 5, 6],\n",
       "       [7, 8, 9]])"
      ]
     },
     "execution_count": 29,
     "metadata": {},
     "output_type": "execute_result"
    }
   ],
   "source": [
    "np.arange(1,10).reshape(3,3)"
   ]
  },
  {
   "cell_type": "code",
   "execution_count": 36,
   "id": "f035f175",
   "metadata": {},
   "outputs": [
    {
     "data": {
      "text/plain": [
       "array([[ 1.   ,  3.375,  5.75 ],\n",
       "       [ 8.125, 10.5  , 12.875],\n",
       "       [15.25 , 17.625, 20.   ]])"
      ]
     },
     "execution_count": 36,
     "metadata": {},
     "output_type": "execute_result"
    }
   ],
   "source": [
    "np.linspace(1,20,9).reshape(3,3)"
   ]
  },
  {
   "cell_type": "code",
   "execution_count": 46,
   "id": "4759c728",
   "metadata": {},
   "outputs": [],
   "source": [
    "ar=np.identity(3)"
   ]
  },
  {
   "cell_type": "code",
   "execution_count": 47,
   "id": "690adcb8",
   "metadata": {},
   "outputs": [
    {
     "data": {
      "text/plain": [
       "array([[1., 0., 0.],\n",
       "       [0., 1., 0.],\n",
       "       [0., 0., 1.]])"
      ]
     },
     "execution_count": 47,
     "metadata": {},
     "output_type": "execute_result"
    }
   ],
   "source": [
    "ar2=np.copy(ar)\n",
    "ar2"
   ]
  },
  {
   "cell_type": "code",
   "execution_count": 61,
   "id": "eb2e238f",
   "metadata": {},
   "outputs": [
    {
     "name": "stdout",
     "output_type": "stream",
     "text": [
      "int64\n",
      "2\n",
      "(5, 4)\n",
      "8\n",
      "20\n"
     ]
    }
   ],
   "source": [
    "print(np.arange(0,20).reshape(5,4).dtype)  #data type of element\n",
    "print(np.arange(0,20).reshape(5,4).ndim)  #dimension of array\n",
    "print(np.arange(0,20).reshape(5,4).shape)  #shape of array\n",
    "print(np.arange(0,20).reshape(5,4).itemsize) #size of an item in array in bytes\n",
    "print(np.arange(0,20).reshape(5,4).size) #total numbers of element in array"
   ]
  },
  {
   "cell_type": "code",
   "execution_count": 64,
   "id": "ac63c0b5",
   "metadata": {},
   "outputs": [
    {
     "data": {
      "text/plain": [
       "array([[1, 2, 3],\n",
       "       [4, 5, 6],\n",
       "       [7, 8, 9]])"
      ]
     },
     "execution_count": 64,
     "metadata": {},
     "output_type": "execute_result"
    }
   ],
   "source": [
    "array=np.arange(1,10).reshape(3,3)\n",
    "array"
   ]
  },
  {
   "cell_type": "code",
   "execution_count": 66,
   "id": "6ceaa11e",
   "metadata": {},
   "outputs": [
    {
     "data": {
      "text/plain": [
       "dtype('int64')"
      ]
     },
     "execution_count": 66,
     "metadata": {},
     "output_type": "execute_result"
    }
   ],
   "source": [
    "array.dtype  #data type of array"
   ]
  },
  {
   "cell_type": "code",
   "execution_count": 78,
   "id": "a9bb975f",
   "metadata": {},
   "outputs": [
    {
     "data": {
      "text/plain": [
       "array([[1., 2., 3.],\n",
       "       [4., 5., 6.],\n",
       "       [7., 8., 9.]])"
      ]
     },
     "execution_count": 78,
     "metadata": {},
     "output_type": "execute_result"
    }
   ],
   "source": [
    "array.astype('float64')    #to convert data type"
   ]
  },
  {
   "cell_type": "code",
   "execution_count": 80,
   "id": "9cad85ca",
   "metadata": {},
   "outputs": [
    {
     "data": {
      "text/plain": [
       "8"
      ]
     },
     "execution_count": 80,
     "metadata": {},
     "output_type": "execute_result"
    }
   ],
   "source": [
    "array.itemsize   #itemsize "
   ]
  },
  {
   "cell_type": "code",
   "execution_count": 82,
   "id": "ab0fb15f",
   "metadata": {},
   "outputs": [
    {
     "name": "stdout",
     "output_type": "stream",
     "text": [
      "total bytes : 72\n"
     ]
    }
   ],
   "source": [
    "#total memory occupied by array\n",
    "array\n",
    "print(f\"total bytes : {array.itemsize*array.size}\")"
   ]
  },
  {
   "cell_type": "markdown",
   "id": "f528a5ee",
   "metadata": {},
   "source": [
    "# List Vs Numpy Array"
   ]
  },
  {
   "cell_type": "code",
   "execution_count": 75,
   "id": "a556fcbe",
   "metadata": {},
   "outputs": [
    {
     "name": "stdout",
     "output_type": "stream",
     "text": [
      "2.3637900352478027\n"
     ]
    }
   ],
   "source": [
    "#list\n",
    "import time\n",
    "x=range(10000000)\n",
    "y=range(10000000,20000000)\n",
    "starttime=time.time()\n",
    "c=[(x,y)for x,y in zip(x,y)]\n",
    "print(time.time()-starttime)"
   ]
  },
  {
   "cell_type": "code",
   "execution_count": 77,
   "id": "171a309b",
   "metadata": {},
   "outputs": [
    {
     "name": "stdout",
     "output_type": "stream",
     "text": [
      "0.042449951171875\n"
     ]
    }
   ],
   "source": [
    "#numpyarray\n",
    "import time\n",
    "a=np.arange(10000000)\n",
    "b=np.arange(10000000,20000000)\n",
    "starttime=time.time()\n",
    "c=a+b\n",
    "print(time.time()-starttime)"
   ]
  },
  {
   "cell_type": "code",
   "execution_count": null,
   "id": "f0a61264",
   "metadata": {},
   "outputs": [],
   "source": []
  },
  {
   "cell_type": "code",
   "execution_count": 87,
   "id": "8ac0c101",
   "metadata": {},
   "outputs": [
    {
     "data": {
      "text/plain": [
       "array([1, 2, 3, 4, 5, 6, 7, 8, 9])"
      ]
     },
     "execution_count": 87,
     "metadata": {},
     "output_type": "execute_result"
    }
   ],
   "source": [
    "a=np.arange(1,10)\n",
    "a"
   ]
  },
  {
   "cell_type": "code",
   "execution_count": 90,
   "id": "3a95a79c",
   "metadata": {},
   "outputs": [
    {
     "data": {
      "text/plain": [
       "array([3, 4, 5, 6, 7])"
      ]
     },
     "execution_count": 90,
     "metadata": {},
     "output_type": "execute_result"
    }
   ],
   "source": [
    "a[2:7]"
   ]
  },
  {
   "cell_type": "code",
   "execution_count": 92,
   "id": "4bdf9e2e",
   "metadata": {},
   "outputs": [
    {
     "data": {
      "text/plain": [
       "array([3, 5])"
      ]
     },
     "execution_count": 92,
     "metadata": {},
     "output_type": "execute_result"
    }
   ],
   "source": [
    "a[[2,4]]   #index wise fetching "
   ]
  },
  {
   "cell_type": "code",
   "execution_count": 95,
   "id": "b1798baa",
   "metadata": {},
   "outputs": [
    {
     "data": {
      "text/plain": [
       "array([9, 8, 7, 6, 5, 4, 3, 2, 1])"
      ]
     },
     "execution_count": 95,
     "metadata": {},
     "output_type": "execute_result"
    }
   ],
   "source": [
    "a[::-1]"
   ]
  },
  {
   "cell_type": "code",
   "execution_count": 97,
   "id": "98af6f81",
   "metadata": {},
   "outputs": [
    {
     "data": {
      "text/plain": [
       "array([1, 2, 3])"
      ]
     },
     "execution_count": 97,
     "metadata": {},
     "output_type": "execute_result"
    }
   ],
   "source": [
    "a[0:3]"
   ]
  },
  {
   "cell_type": "code",
   "execution_count": 100,
   "id": "d6a07cde",
   "metadata": {},
   "outputs": [
    {
     "data": {
      "text/plain": [
       "array([3, 2, 4, 4, 5, 6, 7, 8, 9])"
      ]
     },
     "execution_count": 100,
     "metadata": {},
     "output_type": "execute_result"
    }
   ],
   "source": [
    "a[0:3]=[3,2,4]\n",
    "a\n"
   ]
  },
  {
   "cell_type": "code",
   "execution_count": 107,
   "id": "fbf530e9",
   "metadata": {},
   "outputs": [
    {
     "data": {
      "text/plain": [
       "array([[ 0,  1,  2,  3],\n",
       "       [ 4,  5,  6,  7],\n",
       "       [ 8,  9, 10, 11],\n",
       "       [12, 13, 14, 15],\n",
       "       [16, 17, 18, 19],\n",
       "       [20, 21, 22, 23]])"
      ]
     },
     "execution_count": 107,
     "metadata": {},
     "output_type": "execute_result"
    }
   ],
   "source": [
    "ar=np.arange(0,24).reshape(6,4)\n",
    "ar"
   ]
  },
  {
   "cell_type": "code",
   "execution_count": 109,
   "id": "12235eca",
   "metadata": {},
   "outputs": [
    {
     "data": {
      "text/plain": [
       "array([ 8,  9, 10, 11])"
      ]
     },
     "execution_count": 109,
     "metadata": {},
     "output_type": "execute_result"
    }
   ],
   "source": [
    "ar[2]"
   ]
  },
  {
   "cell_type": "code",
   "execution_count": 112,
   "id": "f86d65dc",
   "metadata": {},
   "outputs": [
    {
     "data": {
      "text/plain": [
       "array([[ 8,  9, 10, 11],\n",
       "       [12, 13, 14, 15]])"
      ]
     },
     "execution_count": 112,
     "metadata": {},
     "output_type": "execute_result"
    }
   ],
   "source": [
    "ar[2:4]"
   ]
  },
  {
   "cell_type": "code",
   "execution_count": 115,
   "id": "d85e6e25",
   "metadata": {},
   "outputs": [
    {
     "data": {
      "text/plain": [
       "array([[8, 9]])"
      ]
     },
     "execution_count": 115,
     "metadata": {},
     "output_type": "execute_result"
    }
   ],
   "source": [
    "ar[2:3,0:2]"
   ]
  },
  {
   "cell_type": "code",
   "execution_count": 117,
   "id": "613adb74",
   "metadata": {},
   "outputs": [
    {
     "data": {
      "text/plain": [
       "array([[18]])"
      ]
     },
     "execution_count": 117,
     "metadata": {},
     "output_type": "execute_result"
    }
   ],
   "source": [
    "ar[4:5,2:3]"
   ]
  },
  {
   "cell_type": "code",
   "execution_count": 122,
   "id": "3fde476f",
   "metadata": {},
   "outputs": [
    {
     "data": {
      "text/plain": [
       "array([[14, 15],\n",
       "       [18, 19]])"
      ]
     },
     "execution_count": 122,
     "metadata": {},
     "output_type": "execute_result"
    }
   ],
   "source": [
    "ar[3:5,2:]"
   ]
  },
  {
   "cell_type": "code",
   "execution_count": 130,
   "id": "a6ab10e9",
   "metadata": {},
   "outputs": [
    {
     "data": {
      "text/plain": [
       "array([[ 1],\n",
       "       [ 5],\n",
       "       [ 9],\n",
       "       [13],\n",
       "       [17],\n",
       "       [21]])"
      ]
     },
     "execution_count": 130,
     "metadata": {},
     "output_type": "execute_result"
    }
   ],
   "source": [
    "ar[:,1:2]"
   ]
  },
  {
   "cell_type": "markdown",
   "id": "cfc62862",
   "metadata": {},
   "source": [
    "# Iteration"
   ]
  },
  {
   "cell_type": "code",
   "execution_count": 129,
   "id": "1884df77",
   "metadata": {},
   "outputs": [
    {
     "name": "stdout",
     "output_type": "stream",
     "text": [
      "0\n",
      "1\n",
      "2\n",
      "3\n",
      "4\n",
      "5\n",
      "6\n",
      "7\n",
      "8\n",
      "9\n",
      "10\n",
      "11\n",
      "12\n",
      "13\n",
      "14\n",
      "15\n",
      "16\n",
      "17\n",
      "18\n",
      "19\n",
      "20\n",
      "21\n",
      "22\n",
      "23\n"
     ]
    }
   ],
   "source": [
    "for i in np.nditer(ar):    # to apply filter in every pixel of image we will use this logic\n",
    "    print(i)"
   ]
  },
  {
   "cell_type": "code",
   "execution_count": 131,
   "id": "dd62459a",
   "metadata": {},
   "outputs": [
    {
     "name": "stdout",
     "output_type": "stream",
     "text": [
      "[1 2 3]\n",
      "[4 5 6]\n",
      "[7 8 9]\n"
     ]
    }
   ],
   "source": [
    "for i in array:\n",
    "    print(i)"
   ]
  },
  {
   "cell_type": "markdown",
   "id": "fb7885ae",
   "metadata": {},
   "source": [
    "# Basic Operations"
   ]
  },
  {
   "cell_type": "code",
   "execution_count": 141,
   "id": "7651565a",
   "metadata": {},
   "outputs": [
    {
     "name": "stdout",
     "output_type": "stream",
     "text": [
      "A --> [[2 3 4]\n",
      " [5 6 7]]\n",
      "\n",
      "B --> [[8 9 4]\n",
      " [2 6 1]]\n"
     ]
    }
   ],
   "source": [
    "A=np.array([[2,3,4],[5,6,7]])\n",
    "B=np.array([[8,9,4],[2,6,1]])\n",
    "print(f\"A --> {A}\\n\")\n",
    "\n",
    "print(f\"B --> {B}\")"
   ]
  },
  {
   "cell_type": "code",
   "execution_count": 143,
   "id": "617408fb",
   "metadata": {},
   "outputs": [
    {
     "data": {
      "text/plain": [
       "array([[10, 12,  8],\n",
       "       [ 7, 12,  8]])"
      ]
     },
     "execution_count": 143,
     "metadata": {},
     "output_type": "execute_result"
    }
   ],
   "source": [
    "A+B"
   ]
  },
  {
   "cell_type": "code",
   "execution_count": 145,
   "id": "0e4fe131",
   "metadata": {},
   "outputs": [
    {
     "data": {
      "text/plain": [
       "array([[-6, -6,  0],\n",
       "       [ 3,  0,  6]])"
      ]
     },
     "execution_count": 145,
     "metadata": {},
     "output_type": "execute_result"
    }
   ],
   "source": [
    "A-B"
   ]
  },
  {
   "cell_type": "code",
   "execution_count": 147,
   "id": "fa361411",
   "metadata": {},
   "outputs": [
    {
     "data": {
      "text/plain": [
       "array([[ 6,  9, 12],\n",
       "       [15, 18, 21]])"
      ]
     },
     "execution_count": 147,
     "metadata": {},
     "output_type": "execute_result"
    }
   ],
   "source": [
    "A*3"
   ]
  },
  {
   "cell_type": "code",
   "execution_count": 149,
   "id": "1c0b4c58",
   "metadata": {},
   "outputs": [
    {
     "data": {
      "text/plain": [
       "array([[16, 27, 16],\n",
       "       [10, 36,  7]])"
      ]
     },
     "execution_count": 149,
     "metadata": {},
     "output_type": "execute_result"
    }
   ],
   "source": [
    "A*B"
   ]
  },
  {
   "cell_type": "code",
   "execution_count": 153,
   "id": "e5629086",
   "metadata": {},
   "outputs": [],
   "source": [
    "C=np.array([[2,4],[4,9],[1,4]])"
   ]
  },
  {
   "cell_type": "code",
   "execution_count": 156,
   "id": "50fc5ec9",
   "metadata": {},
   "outputs": [
    {
     "data": {
      "text/plain": [
       "array([[ 20,  51],\n",
       "       [ 41, 102]])"
      ]
     },
     "execution_count": 156,
     "metadata": {},
     "output_type": "execute_result"
    }
   ],
   "source": [
    "A.dot(C)     # A . C (matrix multiplication)"
   ]
  },
  {
   "cell_type": "code",
   "execution_count": 165,
   "id": "dac2100b",
   "metadata": {},
   "outputs": [
    {
     "data": {
      "text/plain": [
       "7"
      ]
     },
     "execution_count": 165,
     "metadata": {},
     "output_type": "execute_result"
    }
   ],
   "source": [
    "A.min()"
   ]
  },
  {
   "cell_type": "code",
   "execution_count": 167,
   "id": "9fb6dab4",
   "metadata": {},
   "outputs": [
    {
     "data": {
      "text/plain": [
       "array([[16, 27, 16],\n",
       "       [10, 36,  7]])"
      ]
     },
     "execution_count": 167,
     "metadata": {},
     "output_type": "execute_result"
    }
   ],
   "source": [
    "A"
   ]
  },
  {
   "cell_type": "code",
   "execution_count": 169,
   "id": "dcca249f",
   "metadata": {},
   "outputs": [
    {
     "data": {
      "text/plain": [
       "array([10, 27,  7])"
      ]
     },
     "execution_count": 169,
     "metadata": {},
     "output_type": "execute_result"
    }
   ],
   "source": [
    "A.min(axis=0)   #column wise minimum"
   ]
  },
  {
   "cell_type": "code",
   "execution_count": 171,
   "id": "0320a5cb",
   "metadata": {},
   "outputs": [
    {
     "data": {
      "text/plain": [
       "array([16,  7])"
      ]
     },
     "execution_count": 171,
     "metadata": {},
     "output_type": "execute_result"
    }
   ],
   "source": [
    "A.min(axis=1)  #row wise minimum"
   ]
  },
  {
   "cell_type": "code",
   "execution_count": 173,
   "id": "9660307e",
   "metadata": {},
   "outputs": [
    {
     "data": {
      "text/plain": [
       "array([16, 36, 16])"
      ]
     },
     "execution_count": 173,
     "metadata": {},
     "output_type": "execute_result"
    }
   ],
   "source": [
    "A.max(axis=0)   #column wise max. similarily for row wise max"
   ]
  },
  {
   "cell_type": "code",
   "execution_count": 160,
   "id": "01ea49e3",
   "metadata": {},
   "outputs": [
    {
     "data": {
      "text/plain": [
       "7"
      ]
     },
     "execution_count": 160,
     "metadata": {},
     "output_type": "execute_result"
    }
   ],
   "source": [
    "A.max()"
   ]
  },
  {
   "cell_type": "code",
   "execution_count": 174,
   "id": "76e86f30",
   "metadata": {},
   "outputs": [
    {
     "data": {
      "text/plain": [
       "array([[16, 27, 16],\n",
       "       [10, 36,  7]])"
      ]
     },
     "execution_count": 174,
     "metadata": {},
     "output_type": "execute_result"
    }
   ],
   "source": [
    "A=np.array([[2,3,4],[5,6,7]])\n",
    "B=np.array([[8,9,4],[2,6,1]])\n",
    "A*=B\n",
    "A"
   ]
  },
  {
   "cell_type": "code",
   "execution_count": 176,
   "id": "9777b2e2",
   "metadata": {},
   "outputs": [
    {
     "data": {
      "text/plain": [
       "112"
      ]
     },
     "execution_count": 176,
     "metadata": {},
     "output_type": "execute_result"
    }
   ],
   "source": [
    "A.sum()  #sum of all elements of array"
   ]
  },
  {
   "cell_type": "code",
   "execution_count": 178,
   "id": "a25b0e4d",
   "metadata": {},
   "outputs": [
    {
     "data": {
      "text/plain": [
       "array([26, 63, 23])"
      ]
     },
     "execution_count": 178,
     "metadata": {},
     "output_type": "execute_result"
    }
   ],
   "source": [
    "A.sum(axis=0)  #sum column-wise"
   ]
  },
  {
   "cell_type": "code",
   "execution_count": 179,
   "id": "d8e7bdd5",
   "metadata": {},
   "outputs": [
    {
     "data": {
      "text/plain": [
       "array([59, 53])"
      ]
     },
     "execution_count": 179,
     "metadata": {},
     "output_type": "execute_result"
    }
   ],
   "source": [
    "A.sum(axis=1)  #sum row-wise"
   ]
  },
  {
   "cell_type": "code",
   "execution_count": 185,
   "id": "01efd6bb",
   "metadata": {},
   "outputs": [
    {
     "name": "stdout",
     "output_type": "stream",
     "text": [
      "18.666666666666668\n",
      "[13.  31.5 11.5]\n",
      "[19.66666667 17.66666667]\n"
     ]
    }
   ],
   "source": [
    "print(A.mean())\n",
    "print(A.mean(axis=0)) # mean column-wise\n",
    "print(A.mean(axis=1))#mean row-wise"
   ]
  },
  {
   "cell_type": "code",
   "execution_count": 198,
   "id": "0af83907",
   "metadata": {},
   "outputs": [
    {
     "name": "stdout",
     "output_type": "stream",
     "text": [
      "9.961035198322623\n",
      "16.0\n",
      "[[8.88611052e+06 5.32048241e+11 8.88611052e+06]\n",
      " [2.20264658e+04 4.31123155e+15 1.09663316e+03]]\n",
      "[[-0.28790332  0.95637593 -0.28790332]\n",
      " [-0.54402111 -0.99177885  0.6569866 ]]\n",
      "[[-0.95765948 -0.29213881 -0.95765948]\n",
      " [-0.83907153 -0.12796369  0.75390225]]\n"
     ]
    }
   ],
   "source": [
    "print(A.std())  #standard deviation\n",
    "print(np.median(A))  #median #A.median()\n",
    "print(np.exp(A))  #exponent\n",
    "print(np.sin(A))  #sine values\n",
    "print(np.cos(A))  #cos values"
   ]
  },
  {
   "cell_type": "markdown",
   "id": "c9a95229",
   "metadata": {},
   "source": [
    "# Reshaping Numpy Arrays"
   ]
  },
  {
   "cell_type": "code",
   "execution_count": 208,
   "id": "fce54b40",
   "metadata": {},
   "outputs": [
    {
     "data": {
      "text/plain": [
       "array([[[ 1,  2,  3],\n",
       "        [ 4,  5,  6],\n",
       "        [ 7,  8,  9]],\n",
       "\n",
       "       [[10, 11, 12],\n",
       "        [13, 14, 15],\n",
       "        [16, 17, 18]],\n",
       "\n",
       "       [[19, 20, 21],\n",
       "        [22, 23, 24],\n",
       "        [25, 26, 27]]])"
      ]
     },
     "execution_count": 208,
     "metadata": {},
     "output_type": "execute_result"
    }
   ],
   "source": [
    "arr=np.arange(1,28).reshape(3,3,3)    #3D-array\n",
    "arr"
   ]
  },
  {
   "cell_type": "code",
   "execution_count": 211,
   "id": "9f563665",
   "metadata": {},
   "outputs": [
    {
     "data": {
      "text/plain": [
       "array([ 1,  2,  3,  4,  5,  6,  7,  8,  9, 10, 11, 12, 13, 14, 15, 16, 17,\n",
       "       18, 19, 20, 21, 22, 23, 24, 25, 26, 27])"
      ]
     },
     "execution_count": 211,
     "metadata": {},
     "output_type": "execute_result"
    }
   ],
   "source": [
    "arr.ravel()     #convert higher dimension array to 1-D array"
   ]
  },
  {
   "cell_type": "code",
   "execution_count": 218,
   "id": "19e9831e",
   "metadata": {},
   "outputs": [
    {
     "data": {
      "text/plain": [
       "array([[[[ 1,  2,  3],\n",
       "         [ 4,  5,  6],\n",
       "         [ 7,  8,  9]],\n",
       "\n",
       "        [[10, 11, 12],\n",
       "         [13, 14, 15],\n",
       "         [16, 17, 18]],\n",
       "\n",
       "        [[19, 20, 21],\n",
       "         [22, 23, 24],\n",
       "         [25, 26, 27]]],\n",
       "\n",
       "\n",
       "       [[[28, 29, 30],\n",
       "         [31, 32, 33],\n",
       "         [34, 35, 36]],\n",
       "\n",
       "        [[37, 38, 39],\n",
       "         [40, 41, 42],\n",
       "         [43, 44, 45]],\n",
       "\n",
       "        [[46, 47, 48],\n",
       "         [49, 50, 51],\n",
       "         [52, 53, 54]]],\n",
       "\n",
       "\n",
       "       [[[55, 56, 57],\n",
       "         [58, 59, 60],\n",
       "         [61, 62, 63]],\n",
       "\n",
       "        [[64, 65, 66],\n",
       "         [67, 68, 69],\n",
       "         [70, 71, 72]],\n",
       "\n",
       "        [[73, 74, 75],\n",
       "         [76, 77, 78],\n",
       "         [79, 80, 81]]]])"
      ]
     },
     "execution_count": 218,
     "metadata": {},
     "output_type": "execute_result"
    }
   ],
   "source": [
    "arr=np.arange(1,82).reshape(3,3,3,3)    #4D-array\n",
    "arr"
   ]
  },
  {
   "cell_type": "code",
   "execution_count": 220,
   "id": "1f731035",
   "metadata": {},
   "outputs": [
    {
     "data": {
      "text/plain": [
       "array([ 1,  2,  3,  4,  5,  6,  7,  8,  9, 10, 11, 12, 13, 14, 15, 16, 17,\n",
       "       18, 19, 20, 21, 22, 23, 24, 25, 26, 27, 28, 29, 30, 31, 32, 33, 34,\n",
       "       35, 36, 37, 38, 39, 40, 41, 42, 43, 44, 45, 46, 47, 48, 49, 50, 51,\n",
       "       52, 53, 54, 55, 56, 57, 58, 59, 60, 61, 62, 63, 64, 65, 66, 67, 68,\n",
       "       69, 70, 71, 72, 73, 74, 75, 76, 77, 78, 79, 80, 81])"
      ]
     },
     "execution_count": 220,
     "metadata": {},
     "output_type": "execute_result"
    }
   ],
   "source": [
    "arr.ravel()     #convert higher dimension array to 1-D array"
   ]
  },
  {
   "cell_type": "code",
   "execution_count": 6,
   "id": "e60430e1",
   "metadata": {},
   "outputs": [
    {
     "data": {
      "text/plain": [
       "array([[1, 4],\n",
       "       [2, 5],\n",
       "       [4, 6]])"
      ]
     },
     "execution_count": 6,
     "metadata": {},
     "output_type": "execute_result"
    }
   ],
   "source": [
    "A=np.array([[1,2,4],[4,5,6]])\n",
    "np.transpose(A)   # transpose"
   ]
  },
  {
   "cell_type": "code",
   "execution_count": 9,
   "id": "d3892daf",
   "metadata": {},
   "outputs": [],
   "source": [
    "B=np.array([[10,11,12],[14,15,16]])"
   ]
  },
  {
   "cell_type": "code",
   "execution_count": 19,
   "id": "8431a098",
   "metadata": {},
   "outputs": [
    {
     "data": {
      "text/plain": [
       "array([[ 1,  2,  4, 10, 11, 12],\n",
       "       [ 4,  5,  6, 14, 15, 16]])"
      ]
     },
     "execution_count": 19,
     "metadata": {},
     "output_type": "execute_result"
    }
   ],
   "source": [
    "np.hstack((A,B))"
   ]
  },
  {
   "cell_type": "code",
   "execution_count": 21,
   "id": "90174e6b",
   "metadata": {},
   "outputs": [
    {
     "data": {
      "text/plain": [
       "array([[ 1,  2,  4],\n",
       "       [ 4,  5,  6],\n",
       "       [10, 11, 12],\n",
       "       [14, 15, 16]])"
      ]
     },
     "execution_count": 21,
     "metadata": {},
     "output_type": "execute_result"
    }
   ],
   "source": [
    "np.vstack((A,B))"
   ]
  },
  {
   "cell_type": "code",
   "execution_count": 24,
   "id": "8c383f78",
   "metadata": {},
   "outputs": [
    {
     "data": {
      "text/plain": [
       "[array([[1],\n",
       "        [4]]),\n",
       " array([[2],\n",
       "        [5]]),\n",
       " array([[4],\n",
       "        [6]])]"
      ]
     },
     "execution_count": 24,
     "metadata": {},
     "output_type": "execute_result"
    }
   ],
   "source": [
    "np.hsplit(A,3)"
   ]
  },
  {
   "cell_type": "code",
   "execution_count": 27,
   "id": "0b98172e",
   "metadata": {},
   "outputs": [
    {
     "data": {
      "text/plain": [
       "[array([[1, 2, 4]]), array([[4, 5, 6]])]"
      ]
     },
     "execution_count": 27,
     "metadata": {},
     "output_type": "execute_result"
    }
   ],
   "source": [
    "np.vsplit(A,2)"
   ]
  },
  {
   "cell_type": "markdown",
   "id": "7f0daa57",
   "metadata": {},
   "source": [
    "# Fancy Indexing"
   ]
  },
  {
   "cell_type": "code",
   "execution_count": 30,
   "id": "c0a2f5d3",
   "metadata": {},
   "outputs": [
    {
     "data": {
      "text/plain": [
       "array([[ 0,  1,  2,  3],\n",
       "       [ 4,  5,  6,  7],\n",
       "       [ 8,  9, 10, 11],\n",
       "       [12, 13, 14, 15],\n",
       "       [16, 17, 18, 19],\n",
       "       [20, 21, 22, 23]])"
      ]
     },
     "execution_count": 30,
     "metadata": {},
     "output_type": "execute_result"
    }
   ],
   "source": [
    "arr=np.arange(0,24).reshape(6,4)\n",
    "arr"
   ]
  },
  {
   "cell_type": "raw",
   "id": "3f1fd722",
   "metadata": {},
   "source": []
  },
  {
   "cell_type": "code",
   "execution_count": 35,
   "id": "66094cd0",
   "metadata": {},
   "outputs": [
    {
     "data": {
      "text/plain": [
       "7"
      ]
     },
     "execution_count": 35,
     "metadata": {},
     "output_type": "execute_result"
    }
   ],
   "source": [
    "arr[1,3] #normal for value at 1st row and 3 column"
   ]
  },
  {
   "cell_type": "code",
   "execution_count": 38,
   "id": "a88049d6",
   "metadata": {},
   "outputs": [
    {
     "data": {
      "text/plain": [
       "array([[ 4,  5,  6,  7],\n",
       "       [12, 13, 14, 15],\n",
       "       [16, 17, 18, 19]])"
      ]
     },
     "execution_count": 38,
     "metadata": {},
     "output_type": "execute_result"
    }
   ],
   "source": [
    "arr[[1,3,4]] #fancy indexing  :-> it gives the row 1,3,4"
   ]
  },
  {
   "cell_type": "markdown",
   "id": "856f7feb",
   "metadata": {},
   "source": [
    "# Indexing Using Boolean Array"
   ]
  },
  {
   "cell_type": "code",
   "execution_count": 45,
   "id": "37305995",
   "metadata": {},
   "outputs": [
    {
     "data": {
      "text/plain": [
       "array([[56, 36, 31, 19],\n",
       "       [85, 29, 42, 73],\n",
       "       [20, 52, 34, 79],\n",
       "       [86, 34, 39, 69],\n",
       "       [64, 18, 87, 44]])"
      ]
     },
     "execution_count": 45,
     "metadata": {},
     "output_type": "execute_result"
    }
   ],
   "source": [
    "arr=np.random.randint(1,100,20).reshape(5,4)\n",
    "arr"
   ]
  },
  {
   "cell_type": "code",
   "execution_count": 46,
   "id": "4cfc071c",
   "metadata": {},
   "outputs": [
    {
     "data": {
      "text/plain": [
       "array([56, 85, 73, 52, 79, 86, 69, 64, 87])"
      ]
     },
     "execution_count": 46,
     "metadata": {},
     "output_type": "execute_result"
    }
   ],
   "source": [
    "arr[arr>50]"
   ]
  },
  {
   "cell_type": "code",
   "execution_count": 54,
   "id": "6854dfae",
   "metadata": {},
   "outputs": [
    {
     "data": {
      "text/plain": [
       "array([85, 73, 79, 69, 87])"
      ]
     },
     "execution_count": 54,
     "metadata": {},
     "output_type": "execute_result"
    }
   ],
   "source": [
    "arr[(arr>50) & (arr%2!=0)]"
   ]
  },
  {
   "cell_type": "code",
   "execution_count": 56,
   "id": "80fea321",
   "metadata": {},
   "outputs": [
    {
     "data": {
      "text/plain": [
       "array([[56, 36, 31, 19],\n",
       "       [ 0, 29, 42,  0],\n",
       "       [20, 52, 34,  0],\n",
       "       [86, 34, 39,  0],\n",
       "       [64, 18,  0, 44]])"
      ]
     },
     "execution_count": 56,
     "metadata": {},
     "output_type": "execute_result"
    }
   ],
   "source": [
    "arr[(arr>50) & (arr%2!=0)]=0\n",
    "arr"
   ]
  },
  {
   "cell_type": "markdown",
   "id": "c8aa5761",
   "metadata": {},
   "source": [
    "# PLOT USING NUMPY"
   ]
  },
  {
   "cell_type": "code",
   "execution_count": 58,
   "id": "b04a8ef0",
   "metadata": {},
   "outputs": [],
   "source": [
    "x=np.linspace(-40,40,100)"
   ]
  },
  {
   "cell_type": "code",
   "execution_count": 60,
   "id": "ea6dc95a",
   "metadata": {},
   "outputs": [
    {
     "data": {
      "text/plain": [
       "100"
      ]
     },
     "execution_count": 60,
     "metadata": {},
     "output_type": "execute_result"
    }
   ],
   "source": [
    "x.size"
   ]
  },
  {
   "cell_type": "code",
   "execution_count": 61,
   "id": "62e9a2da",
   "metadata": {},
   "outputs": [],
   "source": [
    "y=np.sin(x)"
   ]
  },
  {
   "cell_type": "code",
   "execution_count": 62,
   "id": "8a340ffd",
   "metadata": {},
   "outputs": [
    {
     "data": {
      "text/plain": [
       "100"
      ]
     },
     "execution_count": 62,
     "metadata": {},
     "output_type": "execute_result"
    }
   ],
   "source": [
    "y.size"
   ]
  },
  {
   "cell_type": "code",
   "execution_count": 66,
   "id": "868ea24a",
   "metadata": {},
   "outputs": [
    {
     "data": {
      "text/plain": [
       "[<matplotlib.lines.Line2D at 0x115aa58d0>]"
      ]
     },
     "execution_count": 66,
     "metadata": {},
     "output_type": "execute_result"
    },
    {
     "data": {
      "image/png": "[encoded data removed]",
      "text/plain": [
       "<Figure size 432x288 with 1 Axes>"
      ]
     },
     "metadata": {
      "needs_background": "light"
     },
     "output_type": "display_data"
    }
   ],
   "source": [
    "import matplotlib.pyplot as plt\n",
    "%matplotlib inline\n",
    "plt.plot(x,y)"
   ]
  },
  {
   "cell_type": "code",
   "execution_count": 69,
   "id": "204445c7",
   "metadata": {},
   "outputs": [
    {
     "data": {
      "text/plain": [
       "[<matplotlib.lines.Line2D at 0x115b93af0>]"
      ]
     },
     "execution_count": 69,
     "metadata": {},
     "output_type": "execute_result"
    },
    {
     "data": {
      "image/png": "[encoded data removed]",
      "text/plain": [
       "<Figure size 432x288 with 1 Axes>"
      ]
     },
     "metadata": {
      "needs_background": "light"
     },
     "output_type": "display_data"
    }
   ],
   "source": [
    "y=x**2+2*x+6\n",
    "plt.plot(x,y)"
   ]
  },
  {
   "cell_type": "markdown",
   "id": "e56e2bd2",
   "metadata": {},
   "source": [
    "# SOME IMPORTANT NUMPY FUNCTIONS"
   ]
  },
  {
   "cell_type": "code",
   "execution_count": 76,
   "id": "c54c708a",
   "metadata": {},
   "outputs": [
    {
     "data": {
      "text/plain": [
       "array([0.4619181 , 0.28382962, 0.44497109, 0.85418179, 0.38946696,\n",
       "       0.81744669, 0.01011281, 0.98111868, 0.52414401, 0.87083194])"
      ]
     },
     "execution_count": 76,
     "metadata": {},
     "output_type": "execute_result"
    }
   ],
   "source": [
    "np.random.random(10)  # gives random value from 0 to 1 # different values"
   ]
  },
  {
   "cell_type": "code",
   "execution_count": 97,
   "id": "70fdffa7",
   "metadata": {},
   "outputs": [
    {
     "data": {
      "text/plain": [
       "array([4.17022005e-01, 7.20324493e-01, 1.14374817e-04, 3.02332573e-01,\n",
       "       1.46755891e-01])"
      ]
     },
     "execution_count": 97,
     "metadata": {},
     "output_type": "execute_result"
    }
   ],
   "source": [
    "np.random.seed(1)\n",
    "np.random.random(5)# gives random value from 0 to 1 # different values but using seed values will be fixed."
   ]
  },
  {
   "cell_type": "code",
   "execution_count": 113,
   "id": "07ffc359",
   "metadata": {},
   "outputs": [
    {
     "data": {
      "text/plain": [
       "8.605211980728757"
      ]
     },
     "execution_count": 113,
     "metadata": {},
     "output_type": "execute_result"
    }
   ],
   "source": [
    "np.random.uniform(3,10)  #random value b/w (3 to 10) in float type "
   ]
  },
  {
   "cell_type": "code",
   "execution_count": 115,
   "id": "edcf52c4",
   "metadata": {},
   "outputs": [
    {
     "data": {
      "text/plain": [
       "array([42.68965488, 95.83106348, 53.78336321, 69.49583428, 32.23604747,\n",
       "       68.96359184, 83.62794152,  2.81053946, 75.26428718, 98.8972478 ])"
      ]
     },
     "execution_count": 115,
     "metadata": {},
     "output_type": "execute_result"
    }
   ],
   "source": [
    "np.random.uniform(1,100,10)"
   ]
  },
  {
   "cell_type": "code",
   "execution_count": 117,
   "id": "03892142",
   "metadata": {},
   "outputs": [
    {
     "data": {
      "text/plain": [
       "array([[68.20471776, 21.95118348],\n",
       "       [27.28911928, 49.66574277],\n",
       "       [ 6.28289197, 57.83764294],\n",
       "       [15.52612892, 59.34124815],\n",
       "       [70.27607764, 11.13110845]])"
      ]
     },
     "execution_count": 117,
     "metadata": {},
     "output_type": "execute_result"
    }
   ],
   "source": [
    "np.random.uniform(1,100,10).reshape(5,2)"
   ]
  },
  {
   "cell_type": "code",
   "execution_count": 119,
   "id": "392cc2bc",
   "metadata": {},
   "outputs": [
    {
     "data": {
      "text/plain": [
       "array([[[58, 83, 97],\n",
       "        [14, 11, 24],\n",
       "        [82,  8, 25]],\n",
       "\n",
       "       [[75, 93, 21],\n",
       "        [33, 13, 66],\n",
       "        [95, 61, 25]],\n",
       "\n",
       "       [[83, 98,  3],\n",
       "        [93, 99, 11],\n",
       "        [55, 97, 83]]])"
      ]
     },
     "execution_count": 119,
     "metadata": {},
     "output_type": "execute_result"
    }
   ],
   "source": [
    "np.random.randint(1,100,27).reshape(3,3,3)"
   ]
  },
  {
   "cell_type": "code",
   "execution_count": 131,
   "id": "7bc250ba",
   "metadata": {},
   "outputs": [
    {
     "data": {
      "text/plain": [
       "array([78, 92, 50, 48, 78, 41, 79, 46, 88])"
      ]
     },
     "execution_count": 131,
     "metadata": {},
     "output_type": "execute_result"
    }
   ],
   "source": [
    "arr= np.random.randint(1,100,9)\n",
    "arr"
   ]
  },
  {
   "cell_type": "code",
   "execution_count": 132,
   "id": "458367fa",
   "metadata": {},
   "outputs": [
    {
     "data": {
      "text/plain": [
       "1"
      ]
     },
     "execution_count": 132,
     "metadata": {},
     "output_type": "execute_result"
    }
   ],
   "source": [
    "np.argmax(arr)"
   ]
  },
  {
   "cell_type": "code",
   "execution_count": 133,
   "id": "f0dee7ef",
   "metadata": {},
   "outputs": [
    {
     "data": {
      "text/plain": [
       "92"
      ]
     },
     "execution_count": 133,
     "metadata": {},
     "output_type": "execute_result"
    }
   ],
   "source": [
    "arr[np.argmax(arr)]  #position that have max value of array"
   ]
  },
  {
   "cell_type": "code",
   "execution_count": 136,
   "id": "75b34c37",
   "metadata": {},
   "outputs": [
    {
     "data": {
      "text/plain": [
       "array([False, False])"
      ]
     },
     "execution_count": 136,
     "metadata": {},
     "output_type": "execute_result"
    }
   ],
   "source": [
    "arr[(arr%2==1)]==-1"
   ]
  },
  {
   "cell_type": "code",
   "execution_count": 139,
   "id": "a706fb44",
   "metadata": {},
   "outputs": [
    {
     "data": {
      "text/plain": [
       "array([41, 46, 48, 50, 78, 78, 79, 88, 92])"
      ]
     },
     "execution_count": 139,
     "metadata": {},
     "output_type": "execute_result"
    }
   ],
   "source": [
    "arr.sort()\n",
    "arr"
   ]
  },
  {
   "cell_type": "code",
   "execution_count": 140,
   "id": "71088151",
   "metadata": {},
   "outputs": [
    {
     "data": {
      "text/plain": [
       "array([-1, 46, 48, 50, 78, 78, -1, 88, 92])"
      ]
     },
     "execution_count": 140,
     "metadata": {},
     "output_type": "execute_result"
    }
   ],
   "source": [
    "np.where(arr%2==1,-1,arr)"
   ]
  },
  {
   "cell_type": "code",
   "execution_count": 145,
   "id": "eeddd7f3",
   "metadata": {},
   "outputs": [
    {
     "data": {
      "text/plain": [
       "48.0"
      ]
     },
     "execution_count": 145,
     "metadata": {},
     "output_type": "execute_result"
    }
   ],
   "source": [
    "np.percentile(arr,25)   #percentile for 25 %"
   ]
  },
  {
   "cell_type": "code",
   "execution_count": 146,
   "id": "97a3f900",
   "metadata": {},
   "outputs": [
    {
     "data": {
      "text/plain": [
       "78.0"
      ]
     },
     "execution_count": 146,
     "metadata": {},
     "output_type": "execute_result"
    }
   ],
   "source": [
    "np.percentile(arr,50)   #percentile for 50 %"
   ]
  },
  {
   "cell_type": "code",
   "execution_count": 147,
   "id": "3c89d307",
   "metadata": {},
   "outputs": [
    {
     "data": {
      "text/plain": [
       "91.936"
      ]
     },
     "execution_count": 147,
     "metadata": {},
     "output_type": "execute_result"
    }
   ],
   "source": [
    "np.percentile(arr,99.8)   #percentile for 99.8 %"
   ]
  }
 ],
 "metadata": {
  "kernelspec": {
   "display_name": "Python 3 (ipykernel)",
   "language": "python",
   "name": "python3"
  },
  "language_info": {
   "codemirror_mode": {
    "name": "ipython",
    "version": 3
   },
   "file_extension": ".py",
   "mimetype": "text/x-python",
   "name": "python",
   "nbconvert_exporter": "python",
   "pygments_lexer": "ipython3",
   "version": "3.10.2"
  }
 },
 "nbformat": 4,
 "nbformat_minor": 5
}
