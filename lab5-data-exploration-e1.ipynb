{
 "cells": [
  {
   "cell_type": "markdown",
   "metadata": {},
   "source": [
    "# EDA Lab"
   ]
  },
  {
   "cell_type": "markdown",
   "metadata": {},
   "source": [
    "## Data Exploration of Traveler dataset"
   ]
  },
  {
   "cell_type": "code",
   "execution_count": null,
   "metadata": {},
   "outputs": [],
   "source": [
    "import numpy as np\n",
    "import pandas as pd\n",
    "import matplotlib.pyplot as plt\n",
    "import seaborn as sns\n",
    "%pylab inline"
   ]
  },
  {
   "cell_type": "markdown",
   "metadata": {},
   "source": [
    "### Exploration by a Data Analysist\n",
    "   \n",
    "   - Is there any mistakes in the data?\n",
    "   - Does the data have peculiar behavior?\n",
    "   - Do I need to fix or remove any of the data to be more realistic?\n"
   ]
  },
  {
   "cell_type": "code",
   "execution_count": null,
   "metadata": {},
   "outputs": [],
   "source": [
    "#Lets load data from train and test datasets\n",
    "train_users = pd.read_csv('./traveler_dataset/train_users_2.csv')\n",
    "test_users = pd.read_csv('./traveler_dataset/test_users.csv')"
   ]
  },
  {
   "cell_type": "code",
   "execution_count": null,
   "metadata": {},
   "outputs": [],
   "source": [
    "## How many users are in training set and test set\n",
    "print(\"We have\", train_users.shape[0], \"users in the training set and\", \n",
    "      test_users.shape[0], \"in the test set.\")\n",
    "print(\"In total we have\", train_users.shape[0] + test_users.shape[0], \"users.\")"
   ]
  },
  {
   "cell_type": "code",
   "execution_count": null,
   "metadata": {},
   "outputs": [],
   "source": [
    "train_users.head()"
   ]
  },
  {
   "cell_type": "code",
   "execution_count": null,
   "metadata": {},
   "outputs": [],
   "source": [
    "test_users.head()"
   ]
  },
  {
   "cell_type": "code",
   "execution_count": null,
   "metadata": {},
   "outputs": [],
   "source": [
    "# Merge train and test users\n",
    "users = pd.concat((train_users, test_users), axis = 0, ignore_index = True, sort = False)\n",
    "users.head()"
   ]
  },
  {
   "cell_type": "code",
   "execution_count": null,
   "metadata": {
    "scrolled": true
   },
   "outputs": [],
   "source": [
    "# For data exploration let us remove the ID's\n",
    "users.drop('id',axis = 1, inplace = True)\n",
    "\n",
    "users.head()"
   ]
  },
  {
   "cell_type": "markdown",
   "metadata": {},
   "source": [
    "### Data cleaning"
   ]
  },
  {
   "cell_type": "markdown",
   "metadata": {},
   "source": [
    "###  Missing data - [1] Gender\n",
    " - **Viewing the data:** let us start with gender attribute to see certain values being **-unknown-**. \n",
    " - If **-unknown-**, transform these values into **NaN**.\n",
    "    "
   ]
  },
  {
   "cell_type": "code",
   "execution_count": null,
   "metadata": {},
   "outputs": [],
   "source": [
    "users.gender.head()"
   ]
  },
  {
   "cell_type": "markdown",
   "metadata": {},
   "source": [
    "#### How much data we are missing?\n",
    "\n",
    "\n",
    "\n"
   ]
  },
  {
   "cell_type": "code",
   "execution_count": null,
   "metadata": {},
   "outputs": [],
   "source": [
    "## Compute NaN percentage of each feature (attribute).\n",
    "users_nan = (users.isnull().sum() / users.shape[0]) * 100\n",
    "users_nan[users_nan > 0]\n"
   ]
  },
  {
   "cell_type": "markdown",
   "metadata": {},
   "source": [
    "#### Analysis: \n",
    "- ???"
   ]
  },
  {
   "cell_type": "markdown",
   "metadata": {},
   "source": [
    "#### Exercise 1:\n",
    "   - What is the NaN percentage of **date_first_booking** and **age** attribute in test_users dataset\n",
    "   "
   ]
  },
  {
   "cell_type": "code",
   "execution_count": null,
   "metadata": {},
   "outputs": [],
   "source": [
    "### Start code\n",
    "\n",
    "\n",
    "\n",
    "### End code"
   ]
  },
  {
   "cell_type": "markdown",
   "metadata": {},
   "source": [
    "### Missing data - [1] Gender continue...\n",
    " - If -unknown-, transform these values into NaN."
   ]
  },
  {
   "cell_type": "markdown",
   "metadata": {},
   "source": [
    "#### Exercise 2:\n",
    " - Replace -unknown- with NaN"
   ]
  },
  {
   "cell_type": "code",
   "execution_count": null,
   "metadata": {},
   "outputs": [],
   "source": [
    "### Start code\n",
    "\n",
    "\n",
    "### End code"
   ]
  },
  {
   "cell_type": "markdown",
   "metadata": {},
   "source": [
    "#### Exercise 3:\n",
    " - Plot figure as shown below"
   ]
  },
  {
   "cell_type": "code",
   "execution_count": null,
   "metadata": {},
   "outputs": [],
   "source": [
    "## Start code\n",
    "\n",
    "\n",
    "\n",
    "\n",
    "## End code\n",
    "sns.despine()"
   ]
  },
  {
   "cell_type": "markdown",
   "metadata": {},
   "source": [
    "#### Expected graph:\n",
    "<img src=\"./eda_images/gender.png\" height=\"400\" width=\"400\"/>"
   ]
  },
  {
   "cell_type": "markdown",
   "metadata": {},
   "source": [
    "#### Exercise 4:\n",
    "- Is there any **gender** preferences when travelling to destination country?\n",
    "- Plot figure as shown below\n"
   ]
  },
  {
   "cell_type": "code",
   "execution_count": null,
   "metadata": {},
   "outputs": [],
   "source": [
    "women = sum(users['gender'] == 'FEMALE')\n",
    "men = sum(users['gender'] == 'MALE')\n",
    "\n",
    "female_destinations = users.loc[users['gender'] == 'FEMALE', \n",
    "                    'country_destination'].value_counts() / women * 100\n",
    "male_destinations = users.loc[users['gender'] == 'MALE', \n",
    "                    'country_destination'].value_counts() / men * 100\n",
    "\n",
    "## Plot bar graph\n",
    "# Bar width\n",
    "width = 0.4\n",
    "\n",
    "### Start code\n",
    "\n",
    "\n",
    "\n",
    "\n",
    "\n",
    "\n",
    "\n",
    "\n",
    "\n",
    "\n",
    "### End code\n",
    "sns.despine()\n",
    "plt.show()"
   ]
  },
  {
   "cell_type": "markdown",
   "metadata": {},
   "source": [
    "#### Expected graph:\n",
    "\n",
    "<img src=\"./eda_images/destination_country.png\" height=\"400\" width=\"400\"/>"
   ]
  },
  {
   "cell_type": "markdown",
   "metadata": {},
   "source": [
    "#### Analysis: \n",
    "- Summary: ???"
   ]
  },
  {
   "cell_type": "markdown",
   "metadata": {},
   "source": [
    "### Missing data - [2] Age\n",
    " - **Viewing the data:** age attribute has certain values being **-unknown-**. \n",
    " - Transform these values into **NaN**.\n",
    "    "
   ]
  },
  {
   "cell_type": "code",
   "execution_count": null,
   "metadata": {},
   "outputs": [],
   "source": [
    "## age\n",
    "users.age.describe()"
   ]
  },
  {
   "cell_type": "markdown",
   "metadata": {},
   "source": [
    "#### Analysis:\n",
    " - ???"
   ]
  },
  {
   "cell_type": "markdown",
   "metadata": {},
   "source": [
    "#### Exercise 5:\n",
    "   - Display total number of users whose **age** is > 122 and < 18"
   ]
  },
  {
   "cell_type": "code",
   "execution_count": null,
   "metadata": {},
   "outputs": [],
   "source": [
    "### Start code\n",
    "\n",
    "\n",
    "\n",
    "\n",
    "\n",
    "### End code"
   ]
  },
  {
   "cell_type": "markdown",
   "metadata": {},
   "source": [
    "#### Statistical analysis of age attribute with value > 122 and < 18"
   ]
  },
  {
   "cell_type": "code",
   "execution_count": null,
   "metadata": {},
   "outputs": [],
   "source": [
    "users[users.age > 122]['age'].describe()"
   ]
  },
  {
   "cell_type": "code",
   "execution_count": null,
   "metadata": {},
   "outputs": [],
   "source": [
    "users[users.age < 18]['age'].describe()"
   ]
  },
  {
   "cell_type": "markdown",
   "metadata": {},
   "source": [
    "#### Analysis: \n",
    "- Summary: ???\n"
   ]
  },
  {
   "cell_type": "markdown",
   "metadata": {},
   "source": [
    "#### Exercise 6:\n",
    "   - Set an acceptable range (95, 16) and put others as NaN in **age**"
   ]
  },
  {
   "cell_type": "code",
   "execution_count": null,
   "metadata": {},
   "outputs": [],
   "source": [
    "### Start code\n",
    "\n",
    "\n",
    "\n",
    "\n",
    "### End code"
   ]
  },
  {
   "cell_type": "markdown",
   "metadata": {},
   "source": [
    "#### Age with distribution for better analysis"
   ]
  },
  {
   "cell_type": "code",
   "execution_count": null,
   "metadata": {},
   "outputs": [],
   "source": [
    "sns.distplot(users.age.dropna(), color='red')\n",
    "plt.xlabel('Age')\n",
    "sns.despine()"
   ]
  },
  {
   "cell_type": "markdown",
   "metadata": {},
   "source": [
    "#### Analysis: The common age of travelers is between 20 and 50.\n",
    "   - How about older people, do they travel in a different way?    "
   ]
  },
  {
   "cell_type": "markdown",
   "metadata": {},
   "source": [
    "#### Exercise 7:\n",
    "   - Lets take arbitrary **age** (eg: 45) and split into two groups, namely, *Young* and *Old* based on **country_destination**.\n",
    "   - Plot figure as shown below."
   ]
  },
  {
   "cell_type": "code",
   "execution_count": null,
   "metadata": {},
   "outputs": [],
   "source": [
    "age = 45\n",
    "\n",
    "### Start code \n",
    "\n",
    "\n",
    "\n",
    "\n",
    "\n",
    "\n",
    "\n",
    "\n",
    "\n",
    "\n",
    "\n",
    "\n",
    "\n",
    "\n",
    "\n",
    "## End code\n",
    "\n",
    "##Plot\n",
    "\n",
    "plt.legend()\n",
    "plt.xlabel('Destination Country')\n",
    "plt.ylabel('Percentage')\n",
    "\n",
    "sns.despine()\n",
    "plt.show()"
   ]
  },
  {
   "cell_type": "markdown",
   "metadata": {},
   "source": [
    "#### Expected graph:\n",
    "\n",
    "<img src=\"./eda_images/young_old.png\" height=\"400\" width=\"400\"/>"
   ]
  },
  {
   "cell_type": "markdown",
   "metadata": {},
   "source": [
    "#### Analysis: \n",
    "    \n",
    "- ???\n",
    "        "
   ]
  },
  {
   "cell_type": "markdown",
   "metadata": {},
   "source": [
    "#### Exercise 8:\n",
    "   - What about native language if 'en', what percentage ? "
   ]
  },
  {
   "cell_type": "code",
   "execution_count": null,
   "metadata": {},
   "outputs": [],
   "source": [
    "### Start code\n",
    "\n",
    "\n",
    "\n",
    "\n",
    "### End code"
   ]
  },
  {
   "cell_type": "markdown",
   "metadata": {},
   "source": [
    "### [3] Dates"
   ]
  },
  {
   "cell_type": "code",
   "execution_count": null,
   "metadata": {},
   "outputs": [],
   "source": [
    "users['date_account_created'] = pd.to_datetime(users['date_account_created'])\n",
    "users['date_first_booking'] = pd.to_datetime(users['date_first_booking'])\n",
    "users['date_first_active'] = pd.to_datetime((users.timestamp_first_active)// 1000000, format='%Y%m%d')"
   ]
  },
  {
   "cell_type": "code",
   "execution_count": null,
   "metadata": {},
   "outputs": [],
   "source": [
    "users.head()"
   ]
  },
  {
   "cell_type": "markdown",
   "metadata": {},
   "source": [
    "#### Plot number of user accounts created over time\n"
   ]
  },
  {
   "cell_type": "code",
   "execution_count": null,
   "metadata": {},
   "outputs": [],
   "source": [
    "\n",
    "sns.set_style(\"whitegrid\", {'axes.edgecolor': '0'})\n",
    "#sns.set_context(\"poster\", font_scale=1.1)\n",
    "users.date_account_created.value_counts().plot(kind='line', linewidth=1.2, color='red')\n"
   ]
  },
  {
   "cell_type": "markdown",
   "metadata": {},
   "source": [
    "#### Analysis: \n",
    "\n",
    "- We observe how fast the traveler site has grown over the last few years. \n",
    "- Does this corelate with the date when the user was active for the first time? \n",
    "- **Exercise 9:** It might be similar, how to check the data!\n"
   ]
  },
  {
   "cell_type": "code",
   "execution_count": null,
   "metadata": {},
   "outputs": [],
   "source": [
    "### Start code\n",
    "\n",
    "\n",
    "\n",
    "\n",
    "### End code"
   ]
  },
  {
   "cell_type": "markdown",
   "metadata": {},
   "source": [
    "#### Analysis: \n",
    "   - ???\n",
    "    "
   ]
  },
  {
   "cell_type": "markdown",
   "metadata": {},
   "source": [
    "#### Plot for year 2013 - date_account_created and date_first_active"
   ]
  },
  {
   "cell_type": "code",
   "execution_count": null,
   "metadata": {},
   "outputs": [],
   "source": [
    "## Select 2013 year for date_account_created\n",
    "\n",
    "users_2013_a = users[users['date_account_created'] > pd.to_datetime(20130101, format='%Y%m%d')]\n",
    "users_2013_a = users_2013_a[users_2013_a['date_account_created'] < pd.to_datetime(20140101, format='%Y%m%d')]\n",
    "users_2013_a.date_account_created.value_counts().plot(kind='line', linewidth=1.2, color='red')\n",
    "plt.show()\n"
   ]
  },
  {
   "cell_type": "code",
   "execution_count": null,
   "metadata": {},
   "outputs": [],
   "source": [
    "## Select 2013 year for date_first_active\n",
    "\n",
    "users_2013 = users[users['date_first_active'] > pd.to_datetime(20130101, format='%Y%m%d')]\n",
    "users_2013 = users_2013[users_2013['date_first_active'] < pd.to_datetime(20140101, format='%Y%m%d')]\n",
    "users_2013.date_first_active.value_counts().plot(kind='line', linewidth=1.2, color='red')\n",
    "plt.show()"
   ]
  },
  {
   "cell_type": "markdown",
   "metadata": {},
   "source": [
    "#### Analysis:\n",
    "  - Small patterns: some peaks at Oct. - Nov.\n",
    "  - **Exercise 10:** Lets look more closely, in particular days\n",
    "    "
   ]
  },
  {
   "cell_type": "code",
   "execution_count": null,
   "metadata": {},
   "outputs": [],
   "source": [
    "weekdays = []\n",
    "for date in users.date_account_created:\n",
    "    weekdays.append(date.weekday())\n",
    "weekdays = pd.Series(weekdays)"
   ]
  },
  {
   "cell_type": "code",
   "execution_count": null,
   "metadata": {},
   "outputs": [],
   "source": [
    "sns.barplot(x = weekdays.value_counts().index, y=weekdays.value_counts().values, order=range(0,7))\n",
    "plt.xlabel('Week Day')\n",
    "sns.despine()"
   ]
  },
  {
   "cell_type": "markdown",
   "metadata": {},
   "source": [
    "#### Exercise 11: HW \n",
    "- Can you find some distinctions between **date_first_active** and **date_account_created** relating to **country_destination**?\n"
   ]
  },
  {
   "cell_type": "markdown",
   "metadata": {},
   "source": [
    "#### Exercise 12: HW \n",
    "- Are there more registrations but less booking?"
   ]
  },
  {
   "cell_type": "markdown",
   "metadata": {},
   "source": [
    "#### Exercise 13: HW \n",
    "- Does it make sense to find where do users stay when they book 'US'?"
   ]
  },
  {
   "cell_type": "markdown",
   "metadata": {},
   "source": [
    "#### Exercise 14: HW \n",
    "- Try making plots about **devices** and **signups** for analysis"
   ]
  },
  {
   "cell_type": "markdown",
   "metadata": {
    "collapsed": true
   },
   "source": [
    "#### Exercise 15: HW \n",
    "- Raise many more questions and provide your analysis on rest of the attributes"
   ]
  }
 ],
 "metadata": {
  "kernelspec": {
   "display_name": "Python 3 (ipykernel)",
   "language": "python",
   "name": "python3"
  },
  "language_info": {
   "codemirror_mode": {
    "name": "ipython",
    "version": 3
   },
   "file_extension": ".py",
   "mimetype": "text/x-python",
   "name": "python",
   "nbconvert_exporter": "python",
   "pygments_lexer": "ipython3",
   "version": "3.9.7"
  }
 },
 "nbformat": 4,
 "nbformat_minor": 1
}
